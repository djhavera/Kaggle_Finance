{
 "cells": [
  {
   "cell_type": "code",
   "execution_count": 2,
   "metadata": {
    "collapsed": true
   },
   "outputs": [],
   "source": [
    "# To support both python 2 and python 3\n",
    "from __future__ import division, print_function, unicode_literals\n",
    "\n",
    "# Common imports\n",
    "import numpy as np\n",
    "import os\n",
    "import pandas as pd\n",
    "\n",
    "# to make this notebook's output stable across runs\n",
    "np.random.seed(42)"
   ]
  },
  {
   "cell_type": "markdown",
   "metadata": {},
   "source": [
    "### Introduction to Finance - Weighted Average Cost of Capital\n",
    "\n",
    "Welcome back Kagglers! We are continuing our two-part series of discounted cash flow models (DCF) to calculate the value of a stock. In the last tutorial, we calculated Caterpillar's (CAT) stock price based on the Dividend Discount Model (DDM). We discovered that the dividend is a poor proxy for cash flow, so we are moving on to a more sophisticated DCF model called the weighted average cost of capital (WACC) model."
   ]
  },
  {
   "cell_type": "markdown",
   "metadata": {},
   "source": [
    "We will cover the following information in this tutorial:\n",
    "\n",
    "  +  Statement of Cash Flows Overview\n",
    "  +  Company Valuation Overview\n",
    "  +  Free Cash Flow\n",
    "  +  Company Valuation Example\n",
    "  +  Python Script and Tips\n"
   ]
  },
  {
   "cell_type": "markdown",
   "metadata": {},
   "source": [
    "### Statement of Cash Flows Overview\n",
    "We will continue to evaluate CAT's recent financial statements and build off our learnings of the Income Statement (IS) and Balance Sheet (BS).\n",
    "\n",
    "In the last tutorial, we learned that the IS is a summary of a business's performance over a time period and is measured in terms of Net Income (Revenue - Expenses). Additionally, we learned that the BS is a snapshot in time and measures the company's health in terms assets, liabilities, and shareholder equity.\n",
    "\n",
    "During this section we will introduce a new financial statement called the Statement of Cash Flows (SCF).\n",
    "\n",
    "**Statement of Cash Flows**: The SCF calculates how changes in the IS and BS affect cash flow. Cash flow is critical to understand because it is the most common reason that companies go bankrupt. The SCF categorizes cash into operating, investing, and financing activities. As a general rule of thumb, businesses aim to convert net income/operating profit to cash on a 1 to 1 basis. We can dig more into this later. In personal finance, you can analyze your cash flow to see how much money you can invest after your everyday expenses are deducted from your income. The higher, the better.\n",
    "\n"
   ]
  },
  {
   "cell_type": "markdown",
   "metadata": {},
   "source": [
    "### Company Valuation Overview (WACC)\n",
    "\n",
    "The WACC model expands on the DDM's assumption that a company's value is based on cash flow.  The DDM assumes that the dividend is a good proxy for cash flow.  However, we discovered that the drawbacks of valuation by dividend were: \n",
    "\n",
    "    1) A company that doesn't pay a dividend can't be valued\n",
    "    \n",
    "    2) The dividend is not always a good proxy of cash flow because it doesn't contain perfect information.  \n",
    "    \n",
    "The WACC model digs deeper by calculating cash flow from the company financial statements.  \n",
    "\n",
    "\n",
    "Next, let's jump into the WACC calculation.  We will assume a constant growth rate of 6% for simplicity of implementing this model.  Six percent is a common proxy used as a starting point for growth rates (1).  There are several components to this calculation, so this breakout is more in-depth than the DDM.\n",
    "\n",
    "**WACC Valuation Assumption:**\n",
    "  +  Calculation: Value = Debt + Equity\n",
    "  +  Assumption: Constant Growth @ 6%\n",
    "  +  Assumption: Ignore After-Tax Interest for simplicity\n",
    "\n",
    "\n",
    "The BS contains the name 'balance' because assets must equal debt + equity.  Therefore, the WACC calculation makes sense that a company is worth its debt (how much it borrowed) plus its equity (how much stock it has issued).  A company receives cash when it borrows or issues stock, which in turn it invests into the business to turn a profit. \n",
    "\n",
    "Nothing is ever free, so the company must pay the bondholder and stockholders a return for their investment.  This return is called the cost of capital or in laymen terms, the cost of raising money to run a business.\n",
    "\n",
    "**WACC Return Assumption:**\n",
    "  +  Calculation: RWACC = (1–tc)·xD·RD + xE ·RE\n",
    "    + RD = Return on Debt\n",
    "    + XD = Proportion of Debt\n",
    "    + tc = Corporate Tax Rate\n",
    "    + RE = Return on Equity\n",
    "    + XE = Propotion of Equity\n",
    "\n",
    "This formula looks intimidating, but as we explore each variable, you will see it's quite straightforward.  Let's start with debt and equity which represent the total investment in the company.  For debt we use long term debt which can be found on the BS.  Additionally, for equity we use the number of shares outstanding times the current share price.  xD and xE are the respective weights of debt and equity in terms of total investment in the company.\n",
    "\n",
    "Next, it is common to assume that the Corporate Tax Rate (tc) is equal to 35% for simplicity (1).  Finally, we were given RE in the DDM example, and we know it is equal to 9.445%.  We are just missing one piece of information, which is the return on debt.  This information is readily available in the annual report and is 5.5%.  Whew, that wasn't so bad.  Now it's just math to put the calculation together."
   ]
  },
  {
   "cell_type": "markdown",
   "metadata": {},
   "source": [
    "### Company Valuation - WACC Pulling It All Together\n",
    "We now understand how the WACC model will evaluate the return on debt and equity. Additionally, we understand that the WACC model assumes a company's value is based on debt and equity. What are we missing then? Well, since the WACC model is a discounted cash flow valuation method, we are missing... cash flow!\n",
    "\n",
    "Therefore, we can remove debt and equity from the calculation and re-define the company value as:\n",
    "V = All Future Free Cash Flows\n",
    "\n",
    "Remember from the DDM model that we defined future cash flows as the dividend. In the WACC model, we will take this a level deeper by accounting for cash flows that can be received by debt holders and shareholders. More specifically, we will review the SCF to determine how much cash a company is generating."
   ]
  },
  {
   "cell_type": "markdown",
   "metadata": {},
   "source": [
    "### Free Cash Flow Overview\n",
    "\n",
    "Free cash flow (FCF) is defined as follows:\n",
    "\n",
    "**FCF Assumptions:**\n",
    "  +  Calculation: FCF = Net Income - Capital Expenditures + Depreciation - Increase in Working Capital\n",
    "\n",
    "**Net Income** is the amount of profit or loss a company earns during a particular time period.  It is the starting point of the FCF calculation because it represents the cash available after revenue and expenses have all been accounted.  It's no different than balancing your checkbook to see how much cash you have available to utilize for the future.  -\n",
    "\n",
    "** Capital Expenditures** are assets purchased over a certain dollar threshold such as \\$2500.  These assets are paid for with cash raised from debt, equity, or net income by a company.  For example, uses \\$200,000 to buy a new machine, then this is a cash outflow.\n",
    "\n",
    "**Depreciation** is a term used to describe the loss in value ('wear and tear') of an asset.  For anyone who has purchased a car, you know that your car depreciates as your mileage increases.  Depreciation is a non-cash expense because the asset is paid for as part of the capital expenditures discussed above.  Depreciation reduces the value of an asset every year by expensing the value loss to the IS.  Depreciation results in tax savings called a depreciation tax shield that allows company to reduce their income and pay fewer taxes for the perceived loss of an asset (2).  Therefore since depreciation is a non-cash expense, we add it back to FCF.\n",
    "\n",
    "\n",
    "**Working Capital** is defined as a company's current assets less its current liabilities.  'Current' means assets or liabilities readily convertible to cash in the next 12 months (2).  Asset examples include Accounts Receivable and Inventory.  Liability examples include Accounts Payable and Expense Accruals.  An *increase* of an asset is a **use** of cash, and a *increase* of a liability is a **source** of cash.  Think about it this way, Accounts Receivable (AR) is money owed from a customer to a company.  Therefore, AR is a short-term loan that is provided to a customer for a set term (i.e., 30 days) and is a reduction in cash for a company until the customer pays.  Additionally, inventory cost the company cash to build it and ties up cash until it is converted until a sale and the accounts receivable is collected."
   ]
  },
  {
   "cell_type": "markdown",
   "metadata": {},
   "source": [
    "### Company Valuation Example\n",
    "\n",
    "The components of the FCF equation reside on several financial statements, and we will define the components as we add them to a database.  Now let's roll up those sleeves because it's time to do some data wrangling to calculate FCF.\n",
    "\n",
    "Let's start by adding in the IS and BS. We will then move onto the SCF."
   ]
  },
  {
   "cell_type": "code",
   "execution_count": 185,
   "metadata": {
    "collapsed": false
   },
   "outputs": [],
   "source": [
    "bs_df = pd.read_csv(\"CAT_BS.csv\")\n",
    "bs_df.set_index(\"Accounts\", inplace=True)"
   ]
  },
  {
   "cell_type": "code",
   "execution_count": 92,
   "metadata": {
    "collapsed": false
   },
   "outputs": [
    {
     "data": {
      "text/html": [
       "<div>\n",
       "<table border=\"1\" class=\"dataframe\">\n",
       "  <thead>\n",
       "    <tr style=\"text-align: right;\">\n",
       "      <th></th>\n",
       "      <th>Category</th>\n",
       "      <th>TY2016</th>\n",
       "      <th>TY2015</th>\n",
       "    </tr>\n",
       "    <tr>\n",
       "      <th>Accounts</th>\n",
       "      <th></th>\n",
       "      <th></th>\n",
       "      <th></th>\n",
       "    </tr>\n",
       "  </thead>\n",
       "  <tbody>\n",
       "    <tr>\n",
       "      <th>Cash and short-term investments</th>\n",
       "      <td>Assets</td>\n",
       "      <td>7168</td>\n",
       "      <td>6460</td>\n",
       "    </tr>\n",
       "    <tr>\n",
       "      <th>Receivables - trade and other</th>\n",
       "      <td>Assets</td>\n",
       "      <td>5981</td>\n",
       "      <td>6695</td>\n",
       "    </tr>\n",
       "    <tr>\n",
       "      <th>Receivables - finance</th>\n",
       "      <td>Assets</td>\n",
       "      <td>8522</td>\n",
       "      <td>8991</td>\n",
       "    </tr>\n",
       "    <tr>\n",
       "      <th>Prepaid expenses and other current assets</th>\n",
       "      <td>Assets</td>\n",
       "      <td>1682</td>\n",
       "      <td>1662</td>\n",
       "    </tr>\n",
       "    <tr>\n",
       "      <th>Inventories</th>\n",
       "      <td>Assets</td>\n",
       "      <td>8614</td>\n",
       "      <td>9700</td>\n",
       "    </tr>\n",
       "    <tr>\n",
       "      <th>Property, plant and equipment - net</th>\n",
       "      <td>Assets</td>\n",
       "      <td>15322</td>\n",
       "      <td>16090</td>\n",
       "    </tr>\n",
       "    <tr>\n",
       "      <th>Long-term receivables - trade and other</th>\n",
       "      <td>Assets</td>\n",
       "      <td>1029</td>\n",
       "      <td>1170</td>\n",
       "    </tr>\n",
       "    <tr>\n",
       "      <th>Long-term receivables - finance</th>\n",
       "      <td>Assets</td>\n",
       "      <td>13556</td>\n",
       "      <td>13651</td>\n",
       "    </tr>\n",
       "    <tr>\n",
       "      <th>Noncurrent deferred and refundable income taxes</th>\n",
       "      <td>Assets</td>\n",
       "      <td>2790</td>\n",
       "      <td>2489</td>\n",
       "    </tr>\n",
       "    <tr>\n",
       "      <th>Intangible assets</th>\n",
       "      <td>Assets</td>\n",
       "      <td>2349</td>\n",
       "      <td>2821</td>\n",
       "    </tr>\n",
       "    <tr>\n",
       "      <th>Goodwill</th>\n",
       "      <td>Assets</td>\n",
       "      <td>6020</td>\n",
       "      <td>6615</td>\n",
       "    </tr>\n",
       "    <tr>\n",
       "      <th>Other assets</th>\n",
       "      <td>Assets</td>\n",
       "      <td>1671</td>\n",
       "      <td>1998</td>\n",
       "    </tr>\n",
       "    <tr>\n",
       "      <th>Machinery, Energy &amp; Transportation</th>\n",
       "      <td>Liability</td>\n",
       "      <td>209</td>\n",
       "      <td>9</td>\n",
       "    </tr>\n",
       "    <tr>\n",
       "      <th>Financial Products</th>\n",
       "      <td>Liability</td>\n",
       "      <td>7094</td>\n",
       "      <td>6958</td>\n",
       "    </tr>\n",
       "    <tr>\n",
       "      <th>Accounts payable</th>\n",
       "      <td>Liability</td>\n",
       "      <td>4614</td>\n",
       "      <td>5023</td>\n",
       "    </tr>\n",
       "    <tr>\n",
       "      <th>Accrued expenses</th>\n",
       "      <td>Liability</td>\n",
       "      <td>3003</td>\n",
       "      <td>3116</td>\n",
       "    </tr>\n",
       "    <tr>\n",
       "      <th>Accrued wages, salaries and employee benefits</th>\n",
       "      <td>Liability</td>\n",
       "      <td>1296</td>\n",
       "      <td>1994</td>\n",
       "    </tr>\n",
       "    <tr>\n",
       "      <th>Customer advances</th>\n",
       "      <td>Liability</td>\n",
       "      <td>1167</td>\n",
       "      <td>1146</td>\n",
       "    </tr>\n",
       "    <tr>\n",
       "      <th>Dividends payable</th>\n",
       "      <td>Liability</td>\n",
       "      <td>452</td>\n",
       "      <td>448</td>\n",
       "    </tr>\n",
       "    <tr>\n",
       "      <th>Other current liabilities</th>\n",
       "      <td>Liability</td>\n",
       "      <td>1635</td>\n",
       "      <td>1671</td>\n",
       "    </tr>\n",
       "    <tr>\n",
       "      <th>Machinery, Energy &amp; Transportation</th>\n",
       "      <td>Liability</td>\n",
       "      <td>507</td>\n",
       "      <td>517</td>\n",
       "    </tr>\n",
       "    <tr>\n",
       "      <th>Financial Products</th>\n",
       "      <td>Liability</td>\n",
       "      <td>6155</td>\n",
       "      <td>5360</td>\n",
       "    </tr>\n",
       "    <tr>\n",
       "      <th>Machinery, Energy &amp; Transportation</th>\n",
       "      <td>Liability</td>\n",
       "      <td>8436</td>\n",
       "      <td>8960</td>\n",
       "    </tr>\n",
       "    <tr>\n",
       "      <th>Long Term Debt</th>\n",
       "      <td>Liability</td>\n",
       "      <td>14382</td>\n",
       "      <td>16209</td>\n",
       "    </tr>\n",
       "    <tr>\n",
       "      <th>Liability for postemployment benefits</th>\n",
       "      <td>Liability</td>\n",
       "      <td>9357</td>\n",
       "      <td>8843</td>\n",
       "    </tr>\n",
       "    <tr>\n",
       "      <th>Other liabilities</th>\n",
       "      <td>Liability</td>\n",
       "      <td>3184</td>\n",
       "      <td>3203</td>\n",
       "    </tr>\n",
       "    <tr>\n",
       "      <th>Common stock of $1.00 par value: Authorized shares: 2,000,000,000 Issued shares: (2016 and 2015 � 814,894,624 shares) at paid-in amount</th>\n",
       "      <td>Stockholder Equity</td>\n",
       "      <td>5277</td>\n",
       "      <td>5238</td>\n",
       "    </tr>\n",
       "    <tr>\n",
       "      <th>Treasury stock: (2016 � 228,408,600 shares; and 2015 � 232,572,734 shares) at cost</th>\n",
       "      <td>Stockholder Equity</td>\n",
       "      <td>-17478</td>\n",
       "      <td>-17640</td>\n",
       "    </tr>\n",
       "    <tr>\n",
       "      <th>Profit employed in the business</th>\n",
       "      <td>Stockholder Equity</td>\n",
       "      <td>27377</td>\n",
       "      <td>29246</td>\n",
       "    </tr>\n",
       "    <tr>\n",
       "      <th>Accumulated other comprehensive income (loss)</th>\n",
       "      <td>Stockholder Equity</td>\n",
       "      <td>-2039</td>\n",
       "      <td>-2035</td>\n",
       "    </tr>\n",
       "    <tr>\n",
       "      <th>Noncontrolling interests</th>\n",
       "      <td>Stockholder Equity</td>\n",
       "      <td>76</td>\n",
       "      <td>76</td>\n",
       "    </tr>\n",
       "  </tbody>\n",
       "</table>\n",
       "</div>"
      ],
      "text/plain": [
       "                                                              Category  \\\n",
       "Accounts                                                                 \n",
       "Cash and short-term investments                                 Assets   \n",
       "Receivables - trade and other                                   Assets   \n",
       "Receivables - finance                                           Assets   \n",
       "Prepaid expenses and other current assets                       Assets   \n",
       "Inventories                                                     Assets   \n",
       "Property, plant and equipment - net                             Assets   \n",
       "Long-term receivables - trade and other                         Assets   \n",
       "Long-term receivables - finance                                 Assets   \n",
       "Noncurrent deferred and refundable income taxes                 Assets   \n",
       "Intangible assets                                               Assets   \n",
       "Goodwill                                                        Assets   \n",
       "Other assets                                                    Assets   \n",
       "Machinery, Energy & Transportation                           Liability   \n",
       "Financial Products                                           Liability   \n",
       "Accounts payable                                             Liability   \n",
       "Accrued expenses                                             Liability   \n",
       "Accrued wages, salaries and employee benefits                Liability   \n",
       "Customer advances                                            Liability   \n",
       "Dividends payable                                            Liability   \n",
       "Other current liabilities                                    Liability   \n",
       "Machinery, Energy & Transportation                           Liability   \n",
       "Financial Products                                           Liability   \n",
       "Machinery, Energy & Transportation                           Liability   \n",
       "Long Term Debt                                               Liability   \n",
       "Liability for postemployment benefits                        Liability   \n",
       "Other liabilities                                            Liability   \n",
       "Common stock of $1.00 par value: Authorized sha...  Stockholder Equity   \n",
       "Treasury stock: (2016 � 228,408,600 shares; and...  Stockholder Equity   \n",
       "Profit employed in the business                     Stockholder Equity   \n",
       "Accumulated other comprehensive income (loss)       Stockholder Equity   \n",
       "Noncontrolling interests                            Stockholder Equity   \n",
       "\n",
       "                                                    TY2016  TY2015  \n",
       "Accounts                                                            \n",
       "Cash and short-term investments                       7168    6460  \n",
       "Receivables - trade and other                         5981    6695  \n",
       "Receivables - finance                                 8522    8991  \n",
       "Prepaid expenses and other current assets             1682    1662  \n",
       "Inventories                                           8614    9700  \n",
       "Property, plant and equipment - net                  15322   16090  \n",
       "Long-term receivables - trade and other               1029    1170  \n",
       "Long-term receivables - finance                      13556   13651  \n",
       "Noncurrent deferred and refundable income taxes       2790    2489  \n",
       "Intangible assets                                     2349    2821  \n",
       "Goodwill                                              6020    6615  \n",
       "Other assets                                          1671    1998  \n",
       "Machinery, Energy & Transportation                     209       9  \n",
       "Financial Products                                    7094    6958  \n",
       "Accounts payable                                      4614    5023  \n",
       "Accrued expenses                                      3003    3116  \n",
       "Accrued wages, salaries and employee benefits         1296    1994  \n",
       "Customer advances                                     1167    1146  \n",
       "Dividends payable                                      452     448  \n",
       "Other current liabilities                             1635    1671  \n",
       "Machinery, Energy & Transportation                     507     517  \n",
       "Financial Products                                    6155    5360  \n",
       "Machinery, Energy & Transportation                    8436    8960  \n",
       "Long Term Debt                                       14382   16209  \n",
       "Liability for postemployment benefits                 9357    8843  \n",
       "Other liabilities                                     3184    3203  \n",
       "Common stock of $1.00 par value: Authorized sha...    5277    5238  \n",
       "Treasury stock: (2016 � 228,408,600 shares; and...  -17478  -17640  \n",
       "Profit employed in the business                      27377   29246  \n",
       "Accumulated other comprehensive income (loss)        -2039   -2035  \n",
       "Noncontrolling interests                                76      76  "
      ]
     },
     "execution_count": 92,
     "metadata": {},
     "output_type": "execute_result"
    }
   ],
   "source": [
    "bs_df"
   ]
  },
  {
   "cell_type": "code",
   "execution_count": 6,
   "metadata": {
    "collapsed": false
   },
   "outputs": [
    {
     "name": "stdout",
     "output_type": "stream",
     "text": [
      "<class 'pandas.core.frame.DataFrame'>\n",
      "RangeIndex: 31 entries, 0 to 30\n",
      "Data columns (total 4 columns):\n",
      "Accounts    31 non-null object\n",
      "Category    31 non-null object\n",
      "TY2016      31 non-null int64\n",
      "TY2015      31 non-null int64\n",
      "dtypes: int64(2), object(2)\n",
      "memory usage: 1.0+ KB\n"
     ]
    }
   ],
   "source": [
    "bs_df.info()"
   ]
  },
  {
   "cell_type": "markdown",
   "metadata": {},
   "source": [
    "**Excel tip**: 'Groupby' in Python gives a summary of the data that is similar to Excel's pivot table. I have attached the '.sum()' method to the groupby command to provide the sum for each category of the BS.\n"
   ]
  },
  {
   "cell_type": "code",
   "execution_count": 7,
   "metadata": {
    "collapsed": false
   },
   "outputs": [
    {
     "data": {
      "text/plain": [
       "Category\n",
       "Assets                74704\n",
       "Liability             61491\n",
       "Stockholder Equity    13213\n",
       "Name: TY2016, dtype: int64"
      ]
     },
     "execution_count": 7,
     "metadata": {},
     "output_type": "execute_result"
    }
   ],
   "source": [
    "bs_df.groupby(['Category'])['TY2016'].sum()"
   ]
  },
  {
   "cell_type": "code",
   "execution_count": 97,
   "metadata": {
    "collapsed": false
   },
   "outputs": [],
   "source": [
    "is_df = pd.read_csv(\"CAT_IS.csv\")\n",
    "is_df.set_index(\"Account\", inplace=True)"
   ]
  },
  {
   "cell_type": "code",
   "execution_count": 98,
   "metadata": {
    "collapsed": false
   },
   "outputs": [
    {
     "data": {
      "text/html": [
       "<div>\n",
       "<table border=\"1\" class=\"dataframe\">\n",
       "  <thead>\n",
       "    <tr style=\"text-align: right;\">\n",
       "      <th></th>\n",
       "      <th>TY2016</th>\n",
       "      <th>TY2015</th>\n",
       "      <th>TY2014</th>\n",
       "    </tr>\n",
       "    <tr>\n",
       "      <th>Account</th>\n",
       "      <th></th>\n",
       "      <th></th>\n",
       "      <th></th>\n",
       "    </tr>\n",
       "  </thead>\n",
       "  <tbody>\n",
       "    <tr>\n",
       "      <th>Sales of Machinery, Energy &amp; Transportation</th>\n",
       "      <td>35773.00</td>\n",
       "      <td>44147.00</td>\n",
       "      <td>52142.0</td>\n",
       "    </tr>\n",
       "    <tr>\n",
       "      <th>Revenues of Financial Products</th>\n",
       "      <td>2764.00</td>\n",
       "      <td>2864.00</td>\n",
       "      <td>3042.0</td>\n",
       "    </tr>\n",
       "    <tr>\n",
       "      <th>Total sales and revenues</th>\n",
       "      <td>38537.00</td>\n",
       "      <td>47011.00</td>\n",
       "      <td>55184.0</td>\n",
       "    </tr>\n",
       "    <tr>\n",
       "      <th>Cost of goods sold</th>\n",
       "      <td>28309.00</td>\n",
       "      <td>33546.00</td>\n",
       "      <td>40718.0</td>\n",
       "    </tr>\n",
       "    <tr>\n",
       "      <th>Selling, general and administrative expenses</th>\n",
       "      <td>4686.00</td>\n",
       "      <td>4951.00</td>\n",
       "      <td>6529.0</td>\n",
       "    </tr>\n",
       "    <tr>\n",
       "      <th>Research and development expenses</th>\n",
       "      <td>1951.00</td>\n",
       "      <td>2119.00</td>\n",
       "      <td>2380.0</td>\n",
       "    </tr>\n",
       "    <tr>\n",
       "      <th>Interest expense of Financial Products</th>\n",
       "      <td>596.00</td>\n",
       "      <td>587.00</td>\n",
       "      <td>624.0</td>\n",
       "    </tr>\n",
       "    <tr>\n",
       "      <th>Goodwill impairment charge</th>\n",
       "      <td>595.00</td>\n",
       "      <td>0.00</td>\n",
       "      <td>0.0</td>\n",
       "    </tr>\n",
       "    <tr>\n",
       "      <th>Other operating (income) expenses</th>\n",
       "      <td>1902.00</td>\n",
       "      <td>2023.00</td>\n",
       "      <td>1619.0</td>\n",
       "    </tr>\n",
       "    <tr>\n",
       "      <th>Total operating costs</th>\n",
       "      <td>38039.00</td>\n",
       "      <td>43226.00</td>\n",
       "      <td>51870.0</td>\n",
       "    </tr>\n",
       "    <tr>\n",
       "      <th>Operating profit</th>\n",
       "      <td>498.00</td>\n",
       "      <td>3785.00</td>\n",
       "      <td>3314.0</td>\n",
       "    </tr>\n",
       "    <tr>\n",
       "      <th>Interest expense excluding Financial Products</th>\n",
       "      <td>505.00</td>\n",
       "      <td>507.00</td>\n",
       "      <td>484.0</td>\n",
       "    </tr>\n",
       "    <tr>\n",
       "      <th>Other income (expense)</th>\n",
       "      <td>146.00</td>\n",
       "      <td>161.00</td>\n",
       "      <td>322.0</td>\n",
       "    </tr>\n",
       "    <tr>\n",
       "      <th>Consolidated profit before taxes</th>\n",
       "      <td>139.00</td>\n",
       "      <td>3439.00</td>\n",
       "      <td>3152.0</td>\n",
       "    </tr>\n",
       "    <tr>\n",
       "      <th>Provision (benefit) for income taxes</th>\n",
       "      <td>192.00</td>\n",
       "      <td>916.00</td>\n",
       "      <td>692.0</td>\n",
       "    </tr>\n",
       "    <tr>\n",
       "      <th>Profit (loss) of consolidated companies</th>\n",
       "      <td>-53.00</td>\n",
       "      <td>2523.00</td>\n",
       "      <td>2460.0</td>\n",
       "    </tr>\n",
       "    <tr>\n",
       "      <th>Equity in profit (loss) of unconsolidated affiliated companies</th>\n",
       "      <td>-6.00</td>\n",
       "      <td>0.00</td>\n",
       "      <td>8.0</td>\n",
       "    </tr>\n",
       "    <tr>\n",
       "      <th>Net Income</th>\n",
       "      <td>-59.00</td>\n",
       "      <td>2523.00</td>\n",
       "      <td>2468.0</td>\n",
       "    </tr>\n",
       "    <tr>\n",
       "      <th>Basic Shares Outstanding (millions)</th>\n",
       "      <td>584.30</td>\n",
       "      <td>594.30</td>\n",
       "      <td>617.2</td>\n",
       "    </tr>\n",
       "    <tr>\n",
       "      <th>Dividend per Share</th>\n",
       "      <td>3.08</td>\n",
       "      <td>3.01</td>\n",
       "      <td>2.7</td>\n",
       "    </tr>\n",
       "  </tbody>\n",
       "</table>\n",
       "</div>"
      ],
      "text/plain": [
       "                                                      TY2016    TY2015  \\\n",
       "Account                                                                  \n",
       "Sales of Machinery, Energy & Transportation         35773.00  44147.00   \n",
       "Revenues of Financial Products                       2764.00   2864.00   \n",
       "Total sales and revenues                            38537.00  47011.00   \n",
       "Cost of goods sold                                  28309.00  33546.00   \n",
       "Selling, general and administrative expenses         4686.00   4951.00   \n",
       "Research and development expenses                    1951.00   2119.00   \n",
       "Interest expense of Financial Products                596.00    587.00   \n",
       "Goodwill impairment charge                            595.00      0.00   \n",
       "Other operating (income) expenses                    1902.00   2023.00   \n",
       "Total operating costs                               38039.00  43226.00   \n",
       "Operating profit                                      498.00   3785.00   \n",
       "Interest expense excluding Financial Products         505.00    507.00   \n",
       "Other income (expense)                                146.00    161.00   \n",
       "Consolidated profit before taxes                      139.00   3439.00   \n",
       "Provision (benefit) for income taxes                  192.00    916.00   \n",
       "Profit (loss) of consolidated companies               -53.00   2523.00   \n",
       "Equity in profit (loss) of unconsolidated affil...     -6.00      0.00   \n",
       "Net Income                                            -59.00   2523.00   \n",
       "Basic Shares Outstanding (millions)                   584.30    594.30   \n",
       "Dividend per Share                                      3.08      3.01   \n",
       "\n",
       "                                                     TY2014  \n",
       "Account                                                      \n",
       "Sales of Machinery, Energy & Transportation         52142.0  \n",
       "Revenues of Financial Products                       3042.0  \n",
       "Total sales and revenues                            55184.0  \n",
       "Cost of goods sold                                  40718.0  \n",
       "Selling, general and administrative expenses         6529.0  \n",
       "Research and development expenses                    2380.0  \n",
       "Interest expense of Financial Products                624.0  \n",
       "Goodwill impairment charge                              0.0  \n",
       "Other operating (income) expenses                    1619.0  \n",
       "Total operating costs                               51870.0  \n",
       "Operating profit                                     3314.0  \n",
       "Interest expense excluding Financial Products         484.0  \n",
       "Other income (expense)                                322.0  \n",
       "Consolidated profit before taxes                     3152.0  \n",
       "Provision (benefit) for income taxes                  692.0  \n",
       "Profit (loss) of consolidated companies              2460.0  \n",
       "Equity in profit (loss) of unconsolidated affil...      8.0  \n",
       "Net Income                                           2468.0  \n",
       "Basic Shares Outstanding (millions)                   617.2  \n",
       "Dividend per Share                                      2.7  "
      ]
     },
     "execution_count": 98,
     "metadata": {},
     "output_type": "execute_result"
    }
   ],
   "source": [
    "is_df"
   ]
  },
  {
   "cell_type": "markdown",
   "metadata": {},
   "source": [
    "Now we will add the SCF.  Remember it describes elements from the BS and IS."
   ]
  },
  {
   "cell_type": "code",
   "execution_count": 11,
   "metadata": {
    "collapsed": true
   },
   "outputs": [],
   "source": [
    "cf_df = pd.read_csv(\"CAT_CF.csv\")"
   ]
  },
  {
   "cell_type": "code",
   "execution_count": 12,
   "metadata": {
    "collapsed": false
   },
   "outputs": [
    {
     "data": {
      "text/html": [
       "<div>\n",
       "<table border=\"1\" class=\"dataframe\">\n",
       "  <thead>\n",
       "    <tr style=\"text-align: right;\">\n",
       "      <th></th>\n",
       "      <th>Account</th>\n",
       "      <th>Category</th>\n",
       "      <th>TY2016</th>\n",
       "      <th>TY2015</th>\n",
       "      <th>TY2014</th>\n",
       "    </tr>\n",
       "  </thead>\n",
       "  <tbody>\n",
       "    <tr>\n",
       "      <th>0</th>\n",
       "      <td>Net Income</td>\n",
       "      <td>Operating Activity</td>\n",
       "      <td>-59</td>\n",
       "      <td>2523</td>\n",
       "      <td>2468</td>\n",
       "    </tr>\n",
       "    <tr>\n",
       "      <th>1</th>\n",
       "      <td>Depreciation and amortization</td>\n",
       "      <td>Operating Activity</td>\n",
       "      <td>3034</td>\n",
       "      <td>3046</td>\n",
       "      <td>3163</td>\n",
       "    </tr>\n",
       "    <tr>\n",
       "      <th>2</th>\n",
       "      <td>Actuarial (gain) loss on pension and postretir...</td>\n",
       "      <td>Operating Activity</td>\n",
       "      <td>985</td>\n",
       "      <td>179</td>\n",
       "      <td>2624</td>\n",
       "    </tr>\n",
       "    <tr>\n",
       "      <th>3</th>\n",
       "      <td>Provision (benefit) for deferred income taxes</td>\n",
       "      <td>Operating Activity</td>\n",
       "      <td>-431</td>\n",
       "      <td>-307</td>\n",
       "      <td>-954</td>\n",
       "    </tr>\n",
       "    <tr>\n",
       "      <th>4</th>\n",
       "      <td>Goodwill impairment charge</td>\n",
       "      <td>Operating Activity</td>\n",
       "      <td>595</td>\n",
       "      <td>0</td>\n",
       "      <td>0</td>\n",
       "    </tr>\n",
       "    <tr>\n",
       "      <th>5</th>\n",
       "      <td>Other</td>\n",
       "      <td>Operating Activity</td>\n",
       "      <td>856</td>\n",
       "      <td>453</td>\n",
       "      <td>470</td>\n",
       "    </tr>\n",
       "    <tr>\n",
       "      <th>6</th>\n",
       "      <td>Receivables - trade and other</td>\n",
       "      <td>Operating Activity</td>\n",
       "      <td>829</td>\n",
       "      <td>764</td>\n",
       "      <td>163</td>\n",
       "    </tr>\n",
       "    <tr>\n",
       "      <th>7</th>\n",
       "      <td>Inventories</td>\n",
       "      <td>Operating Activity</td>\n",
       "      <td>1109</td>\n",
       "      <td>2274</td>\n",
       "      <td>101</td>\n",
       "    </tr>\n",
       "    <tr>\n",
       "      <th>8</th>\n",
       "      <td>Accounts payable</td>\n",
       "      <td>Operating Activity</td>\n",
       "      <td>-200</td>\n",
       "      <td>-1165</td>\n",
       "      <td>222</td>\n",
       "    </tr>\n",
       "    <tr>\n",
       "      <th>9</th>\n",
       "      <td>Accrued expenses</td>\n",
       "      <td>Operating Activity</td>\n",
       "      <td>-201</td>\n",
       "      <td>-199</td>\n",
       "      <td>-10</td>\n",
       "    </tr>\n",
       "    <tr>\n",
       "      <th>10</th>\n",
       "      <td>Accrued wages, salaries and employee benefits</td>\n",
       "      <td>Operating Activity</td>\n",
       "      <td>-708</td>\n",
       "      <td>-389</td>\n",
       "      <td>901</td>\n",
       "    </tr>\n",
       "    <tr>\n",
       "      <th>11</th>\n",
       "      <td>Customer advances</td>\n",
       "      <td>Operating Activity</td>\n",
       "      <td>-37</td>\n",
       "      <td>-501</td>\n",
       "      <td>-593</td>\n",
       "    </tr>\n",
       "    <tr>\n",
       "      <th>12</th>\n",
       "      <td>Other assets - net</td>\n",
       "      <td>Operating Activity</td>\n",
       "      <td>224</td>\n",
       "      <td>143</td>\n",
       "      <td>-139</td>\n",
       "    </tr>\n",
       "    <tr>\n",
       "      <th>13</th>\n",
       "      <td>Other liabilities - net</td>\n",
       "      <td>Operating Activity</td>\n",
       "      <td>-388</td>\n",
       "      <td>-146</td>\n",
       "      <td>-359</td>\n",
       "    </tr>\n",
       "    <tr>\n",
       "      <th>14</th>\n",
       "      <td>Capital expenditures - excluding equipment lea...</td>\n",
       "      <td>Investing Activity</td>\n",
       "      <td>-1109</td>\n",
       "      <td>-1388</td>\n",
       "      <td>-1539</td>\n",
       "    </tr>\n",
       "    <tr>\n",
       "      <th>15</th>\n",
       "      <td>Expenditures for equipment leased to others</td>\n",
       "      <td>Investing Activity</td>\n",
       "      <td>-1819</td>\n",
       "      <td>-1873</td>\n",
       "      <td>-1840</td>\n",
       "    </tr>\n",
       "    <tr>\n",
       "      <th>16</th>\n",
       "      <td>Proceeds from disposals of leased assets and p...</td>\n",
       "      <td>Investing Activity</td>\n",
       "      <td>899</td>\n",
       "      <td>760</td>\n",
       "      <td>904</td>\n",
       "    </tr>\n",
       "    <tr>\n",
       "      <th>17</th>\n",
       "      <td>Additions to finance receivables</td>\n",
       "      <td>Investing Activity</td>\n",
       "      <td>-9339</td>\n",
       "      <td>-9929</td>\n",
       "      <td>-11278</td>\n",
       "    </tr>\n",
       "    <tr>\n",
       "      <th>18</th>\n",
       "      <td>Collections of finance receivables</td>\n",
       "      <td>Investing Activity</td>\n",
       "      <td>9369</td>\n",
       "      <td>9247</td>\n",
       "      <td>9841</td>\n",
       "    </tr>\n",
       "    <tr>\n",
       "      <th>19</th>\n",
       "      <td>Proceeds from sale of finance receivables</td>\n",
       "      <td>Investing Activity</td>\n",
       "      <td>127</td>\n",
       "      <td>136</td>\n",
       "      <td>177</td>\n",
       "    </tr>\n",
       "    <tr>\n",
       "      <th>20</th>\n",
       "      <td>Investments and acquisitions (net of cash acqu...</td>\n",
       "      <td>Investing Activity</td>\n",
       "      <td>-191</td>\n",
       "      <td>-400</td>\n",
       "      <td>-30</td>\n",
       "    </tr>\n",
       "    <tr>\n",
       "      <th>21</th>\n",
       "      <td>Proceeds from sale of businesses and investmen...</td>\n",
       "      <td>Investing Activity</td>\n",
       "      <td>0</td>\n",
       "      <td>178</td>\n",
       "      <td>199</td>\n",
       "    </tr>\n",
       "    <tr>\n",
       "      <th>22</th>\n",
       "      <td>Proceeds from sale of securities</td>\n",
       "      <td>Investing Activity</td>\n",
       "      <td>694</td>\n",
       "      <td>351</td>\n",
       "      <td>810</td>\n",
       "    </tr>\n",
       "    <tr>\n",
       "      <th>23</th>\n",
       "      <td>Investments in securities</td>\n",
       "      <td>Investing Activity</td>\n",
       "      <td>-391</td>\n",
       "      <td>-485</td>\n",
       "      <td>-825</td>\n",
       "    </tr>\n",
       "    <tr>\n",
       "      <th>24</th>\n",
       "      <td>Other - net</td>\n",
       "      <td>Investing Activity</td>\n",
       "      <td>0</td>\n",
       "      <td>-114</td>\n",
       "      <td>-46</td>\n",
       "    </tr>\n",
       "    <tr>\n",
       "      <th>25</th>\n",
       "      <td>Dividends paid</td>\n",
       "      <td>Financing Activity</td>\n",
       "      <td>-1799</td>\n",
       "      <td>-1757</td>\n",
       "      <td>-1620</td>\n",
       "    </tr>\n",
       "    <tr>\n",
       "      <th>26</th>\n",
       "      <td>Distribution to noncontrolling interests</td>\n",
       "      <td>Financing Activity</td>\n",
       "      <td>-8</td>\n",
       "      <td>-7</td>\n",
       "      <td>-7</td>\n",
       "    </tr>\n",
       "    <tr>\n",
       "      <th>27</th>\n",
       "      <td>Contribution from noncontrolling interests</td>\n",
       "      <td>Financing Activity</td>\n",
       "      <td>0</td>\n",
       "      <td>0</td>\n",
       "      <td>4</td>\n",
       "    </tr>\n",
       "    <tr>\n",
       "      <th>28</th>\n",
       "      <td>Common stock issued, including treasury shares...</td>\n",
       "      <td>Financing Activity</td>\n",
       "      <td>-23</td>\n",
       "      <td>33</td>\n",
       "      <td>239</td>\n",
       "    </tr>\n",
       "    <tr>\n",
       "      <th>29</th>\n",
       "      <td>Treasury shares purchased</td>\n",
       "      <td>Financing Activity</td>\n",
       "      <td>0</td>\n",
       "      <td>-2025</td>\n",
       "      <td>-4238</td>\n",
       "    </tr>\n",
       "    <tr>\n",
       "      <th>30</th>\n",
       "      <td>Excess tax benefit from stock-based compensation</td>\n",
       "      <td>Financing Activity</td>\n",
       "      <td>28</td>\n",
       "      <td>24</td>\n",
       "      <td>182</td>\n",
       "    </tr>\n",
       "    <tr>\n",
       "      <th>31</th>\n",
       "      <td>Machinery, Energy &amp; Transportation</td>\n",
       "      <td>Financing Activity</td>\n",
       "      <td>6</td>\n",
       "      <td>3</td>\n",
       "      <td>1994</td>\n",
       "    </tr>\n",
       "    <tr>\n",
       "      <th>32</th>\n",
       "      <td>Financial Products</td>\n",
       "      <td>Financing Activity</td>\n",
       "      <td>5109</td>\n",
       "      <td>5129</td>\n",
       "      <td>8655</td>\n",
       "    </tr>\n",
       "    <tr>\n",
       "      <th>33</th>\n",
       "      <td>Machinery, Energy &amp; Transportation</td>\n",
       "      <td>Financing Activity</td>\n",
       "      <td>-533</td>\n",
       "      <td>-517</td>\n",
       "      <td>-785</td>\n",
       "    </tr>\n",
       "    <tr>\n",
       "      <th>34</th>\n",
       "      <td>Financial Products</td>\n",
       "      <td>Financing Activity</td>\n",
       "      <td>-6032</td>\n",
       "      <td>-7775</td>\n",
       "      <td>-8463</td>\n",
       "    </tr>\n",
       "    <tr>\n",
       "      <th>35</th>\n",
       "      <td>Short-term borrowings - net (original maturiti...</td>\n",
       "      <td>Financing Activity</td>\n",
       "      <td>140</td>\n",
       "      <td>3022</td>\n",
       "      <td>1043</td>\n",
       "    </tr>\n",
       "    <tr>\n",
       "      <th>36</th>\n",
       "      <td>Net cash provided by (used for) financing acti...</td>\n",
       "      <td>Financing Activity</td>\n",
       "      <td>-3112</td>\n",
       "      <td>-3870</td>\n",
       "      <td>-2996</td>\n",
       "    </tr>\n",
       "    <tr>\n",
       "      <th>37</th>\n",
       "      <td>Effect of exchange rate changes on cash</td>\n",
       "      <td>FX</td>\n",
       "      <td>-28</td>\n",
       "      <td>-169</td>\n",
       "      <td>-174</td>\n",
       "    </tr>\n",
       "    <tr>\n",
       "      <th>38</th>\n",
       "      <td>Increase (decrease) in cash and short-term inv...</td>\n",
       "      <td>Total</td>\n",
       "      <td>708</td>\n",
       "      <td>-881</td>\n",
       "      <td>1260</td>\n",
       "    </tr>\n",
       "    <tr>\n",
       "      <th>39</th>\n",
       "      <td>Cash and short-term investments at beginning o...</td>\n",
       "      <td>Total</td>\n",
       "      <td>6460</td>\n",
       "      <td>7341</td>\n",
       "      <td>6081</td>\n",
       "    </tr>\n",
       "  </tbody>\n",
       "</table>\n",
       "</div>"
      ],
      "text/plain": [
       "                                              Account            Category  \\\n",
       "0                                          Net Income  Operating Activity   \n",
       "1                       Depreciation and amortization  Operating Activity   \n",
       "2   Actuarial (gain) loss on pension and postretir...  Operating Activity   \n",
       "3       Provision (benefit) for deferred income taxes  Operating Activity   \n",
       "4                          Goodwill impairment charge  Operating Activity   \n",
       "5                                               Other  Operating Activity   \n",
       "6                       Receivables - trade and other  Operating Activity   \n",
       "7                                         Inventories  Operating Activity   \n",
       "8                                    Accounts payable  Operating Activity   \n",
       "9                                    Accrued expenses  Operating Activity   \n",
       "10      Accrued wages, salaries and employee benefits  Operating Activity   \n",
       "11                                  Customer advances  Operating Activity   \n",
       "12                                 Other assets - net  Operating Activity   \n",
       "13                            Other liabilities - net  Operating Activity   \n",
       "14  Capital expenditures - excluding equipment lea...  Investing Activity   \n",
       "15        Expenditures for equipment leased to others  Investing Activity   \n",
       "16  Proceeds from disposals of leased assets and p...  Investing Activity   \n",
       "17                   Additions to finance receivables  Investing Activity   \n",
       "18                 Collections of finance receivables  Investing Activity   \n",
       "19          Proceeds from sale of finance receivables  Investing Activity   \n",
       "20  Investments and acquisitions (net of cash acqu...  Investing Activity   \n",
       "21  Proceeds from sale of businesses and investmen...  Investing Activity   \n",
       "22                   Proceeds from sale of securities  Investing Activity   \n",
       "23                          Investments in securities  Investing Activity   \n",
       "24                                        Other - net  Investing Activity   \n",
       "25                                     Dividends paid  Financing Activity   \n",
       "26           Distribution to noncontrolling interests  Financing Activity   \n",
       "27         Contribution from noncontrolling interests  Financing Activity   \n",
       "28  Common stock issued, including treasury shares...  Financing Activity   \n",
       "29                          Treasury shares purchased  Financing Activity   \n",
       "30   Excess tax benefit from stock-based compensation  Financing Activity   \n",
       "31                 Machinery, Energy & Transportation  Financing Activity   \n",
       "32                                 Financial Products  Financing Activity   \n",
       "33                 Machinery, Energy & Transportation  Financing Activity   \n",
       "34                                 Financial Products  Financing Activity   \n",
       "35  Short-term borrowings - net (original maturiti...  Financing Activity   \n",
       "36  Net cash provided by (used for) financing acti...  Financing Activity   \n",
       "37            Effect of exchange rate changes on cash                  FX   \n",
       "38  Increase (decrease) in cash and short-term inv...               Total   \n",
       "39  Cash and short-term investments at beginning o...               Total   \n",
       "\n",
       "    TY2016  TY2015  TY2014  \n",
       "0      -59    2523    2468  \n",
       "1     3034    3046    3163  \n",
       "2      985     179    2624  \n",
       "3     -431    -307    -954  \n",
       "4      595       0       0  \n",
       "5      856     453     470  \n",
       "6      829     764     163  \n",
       "7     1109    2274     101  \n",
       "8     -200   -1165     222  \n",
       "9     -201    -199     -10  \n",
       "10    -708    -389     901  \n",
       "11     -37    -501    -593  \n",
       "12     224     143    -139  \n",
       "13    -388    -146    -359  \n",
       "14   -1109   -1388   -1539  \n",
       "15   -1819   -1873   -1840  \n",
       "16     899     760     904  \n",
       "17   -9339   -9929  -11278  \n",
       "18    9369    9247    9841  \n",
       "19     127     136     177  \n",
       "20    -191    -400     -30  \n",
       "21       0     178     199  \n",
       "22     694     351     810  \n",
       "23    -391    -485    -825  \n",
       "24       0    -114     -46  \n",
       "25   -1799   -1757   -1620  \n",
       "26      -8      -7      -7  \n",
       "27       0       0       4  \n",
       "28     -23      33     239  \n",
       "29       0   -2025   -4238  \n",
       "30      28      24     182  \n",
       "31       6       3    1994  \n",
       "32    5109    5129    8655  \n",
       "33    -533    -517    -785  \n",
       "34   -6032   -7775   -8463  \n",
       "35     140    3022    1043  \n",
       "36   -3112   -3870   -2996  \n",
       "37     -28    -169    -174  \n",
       "38     708    -881    1260  \n",
       "39    6460    7341    6081  "
      ]
     },
     "execution_count": 12,
     "metadata": {},
     "output_type": "execute_result"
    }
   ],
   "source": [
    "cf_df"
   ]
  },
  {
   "cell_type": "code",
   "execution_count": 13,
   "metadata": {
    "collapsed": false
   },
   "outputs": [
    {
     "data": {
      "text/html": [
       "<div>\n",
       "<table border=\"1\" class=\"dataframe\">\n",
       "  <thead>\n",
       "    <tr style=\"text-align: right;\">\n",
       "      <th></th>\n",
       "      <th>TY2016</th>\n",
       "      <th>TY2015</th>\n",
       "      <th>TY2014</th>\n",
       "    </tr>\n",
       "    <tr>\n",
       "      <th>Category</th>\n",
       "      <th></th>\n",
       "      <th></th>\n",
       "      <th></th>\n",
       "    </tr>\n",
       "  </thead>\n",
       "  <tbody>\n",
       "    <tr>\n",
       "      <th>FX</th>\n",
       "      <td>-28</td>\n",
       "      <td>-169</td>\n",
       "      <td>-174</td>\n",
       "    </tr>\n",
       "    <tr>\n",
       "      <th>Financing Activity</th>\n",
       "      <td>-6224</td>\n",
       "      <td>-7740</td>\n",
       "      <td>-5992</td>\n",
       "    </tr>\n",
       "    <tr>\n",
       "      <th>Investing Activity</th>\n",
       "      <td>-1760</td>\n",
       "      <td>-3517</td>\n",
       "      <td>-3627</td>\n",
       "    </tr>\n",
       "    <tr>\n",
       "      <th>Operating Activity</th>\n",
       "      <td>5608</td>\n",
       "      <td>6675</td>\n",
       "      <td>8057</td>\n",
       "    </tr>\n",
       "    <tr>\n",
       "      <th>Total</th>\n",
       "      <td>7168</td>\n",
       "      <td>6460</td>\n",
       "      <td>7341</td>\n",
       "    </tr>\n",
       "  </tbody>\n",
       "</table>\n",
       "</div>"
      ],
      "text/plain": [
       "                    TY2016  TY2015  TY2014\n",
       "Category                                  \n",
       "FX                     -28    -169    -174\n",
       "Financing Activity   -6224   -7740   -5992\n",
       "Investing Activity   -1760   -3517   -3627\n",
       "Operating Activity    5608    6675    8057\n",
       "Total                 7168    6460    7341"
      ]
     },
     "execution_count": 13,
     "metadata": {},
     "output_type": "execute_result"
    }
   ],
   "source": [
    "\n",
    "cf_df.groupby(['Category'])['TY2016','TY2015', 'TY2014'].sum()"
   ]
  },
  {
   "cell_type": "markdown",
   "metadata": {},
   "source": [
    "### Company Valuation Example: FCF Calculation\n",
    "\n",
    "We have now added the three financial statements into databases in Python. Next, we will estimate CAT's free cash flow by selecting information from the SCF.\n",
    "\n",
    "As discussed earlier, Free Cash Flow (FCF) is calculated by the following formula:\n",
    "\n",
    "#### FCF = Net Income + Depreciation - Capital Expenditures - Increase in Working Capital\n",
    "\n",
    "First, we will start by looking at Net Income on the IS. I remember that Net Income was at the bottom of the IS, so let's pull the last few rows to find it. The '.tail()' method in Python allows you to pull the last five rows of a database. After using this method, I see that net income is row 17 of the IS."
   ]
  },
  {
   "cell_type": "code",
   "execution_count": 14,
   "metadata": {
    "collapsed": false
   },
   "outputs": [
    {
     "data": {
      "text/html": [
       "<div>\n",
       "<table border=\"1\" class=\"dataframe\">\n",
       "  <thead>\n",
       "    <tr style=\"text-align: right;\">\n",
       "      <th></th>\n",
       "      <th>Account</th>\n",
       "      <th>TY2016</th>\n",
       "      <th>TY2015</th>\n",
       "      <th>TY2014</th>\n",
       "    </tr>\n",
       "  </thead>\n",
       "  <tbody>\n",
       "    <tr>\n",
       "      <th>15</th>\n",
       "      <td>Profit (loss) of consolidated companies</td>\n",
       "      <td>-53.00</td>\n",
       "      <td>2523.00</td>\n",
       "      <td>2460.0</td>\n",
       "    </tr>\n",
       "    <tr>\n",
       "      <th>16</th>\n",
       "      <td>Equity in profit (loss) of unconsolidated affi...</td>\n",
       "      <td>-6.00</td>\n",
       "      <td>0.00</td>\n",
       "      <td>8.0</td>\n",
       "    </tr>\n",
       "    <tr>\n",
       "      <th>17</th>\n",
       "      <td>Net Income</td>\n",
       "      <td>-59.00</td>\n",
       "      <td>2523.00</td>\n",
       "      <td>2468.0</td>\n",
       "    </tr>\n",
       "    <tr>\n",
       "      <th>18</th>\n",
       "      <td>Basic Shares Outstanding (millions)</td>\n",
       "      <td>584.30</td>\n",
       "      <td>594.30</td>\n",
       "      <td>617.2</td>\n",
       "    </tr>\n",
       "    <tr>\n",
       "      <th>19</th>\n",
       "      <td>Dividend per Share</td>\n",
       "      <td>3.08</td>\n",
       "      <td>3.01</td>\n",
       "      <td>2.7</td>\n",
       "    </tr>\n",
       "  </tbody>\n",
       "</table>\n",
       "</div>"
      ],
      "text/plain": [
       "                                              Account  TY2016   TY2015  TY2014\n",
       "15            Profit (loss) of consolidated companies  -53.00  2523.00  2460.0\n",
       "16  Equity in profit (loss) of unconsolidated affi...   -6.00     0.00     8.0\n",
       "17                                         Net Income  -59.00  2523.00  2468.0\n",
       "18                Basic Shares Outstanding (millions)  584.30   594.30   617.2\n",
       "19                                 Dividend per Share    3.08     3.01     2.7"
      ]
     },
     "execution_count": 14,
     "metadata": {},
     "output_type": "execute_result"
    }
   ],
   "source": [
    "is_df.tail()"
   ]
  },
  {
   "cell_type": "markdown",
   "metadata": {},
   "source": [
    "I remember seeing Net Income also on the Cash Flow Statement, so let me pull it to see if it matches Net Income on the IS."
   ]
  },
  {
   "cell_type": "code",
   "execution_count": 15,
   "metadata": {
    "collapsed": false
   },
   "outputs": [
    {
     "data": {
      "text/html": [
       "<div>\n",
       "<table border=\"1\" class=\"dataframe\">\n",
       "  <thead>\n",
       "    <tr style=\"text-align: right;\">\n",
       "      <th></th>\n",
       "      <th>Account</th>\n",
       "      <th>Category</th>\n",
       "      <th>TY2016</th>\n",
       "      <th>TY2015</th>\n",
       "      <th>TY2014</th>\n",
       "    </tr>\n",
       "  </thead>\n",
       "  <tbody>\n",
       "    <tr>\n",
       "      <th>0</th>\n",
       "      <td>Net Income</td>\n",
       "      <td>Operating Activity</td>\n",
       "      <td>-59</td>\n",
       "      <td>2523</td>\n",
       "      <td>2468</td>\n",
       "    </tr>\n",
       "  </tbody>\n",
       "</table>\n",
       "</div>"
      ],
      "text/plain": [
       "      Account            Category  TY2016  TY2015  TY2014\n",
       "0  Net Income  Operating Activity     -59    2523    2468"
      ]
     },
     "execution_count": 15,
     "metadata": {},
     "output_type": "execute_result"
    }
   ],
   "source": [
    "cf_df[cf_df.Account == 'Net Income']"
   ]
  },
  {
   "cell_type": "markdown",
   "metadata": {},
   "source": [
    "Perfect, we have demonstrated that Net Income from the IS is the starting point (i.e. first row) of the SCF.  Depreciation is also on the IS and included on the SCF, but our IS is not detailed enough to show depreciation.  Therefore, we will just assume the Depreciation value on the SCF is accurate.\n",
    "\n",
    "FCF = **Net Income + Depreciation** - Capital Expenditures - Increase in Working Capital\n",
    "\n",
    "We have identified where the first two components of FCF reside, so now let's move to Capital Expenditures (CAP_EX) and Working Capital.\n",
    "\n",
    "CAP_EX and Working Capital both reside on the BS.  However, our BS is detailed enough to show CAP_EX, so we will assume the CAP_EX as given on the SCF.  Working Capital is made up of rows 6 - 10 (Receivables, Inventory, Accounts Payable, and Accrued Costs) on the SCF.  Let's take a look."
   ]
  },
  {
   "cell_type": "code",
   "execution_count": 16,
   "metadata": {
    "collapsed": false
   },
   "outputs": [
    {
     "data": {
      "text/html": [
       "<div>\n",
       "<table border=\"1\" class=\"dataframe\">\n",
       "  <thead>\n",
       "    <tr style=\"text-align: right;\">\n",
       "      <th></th>\n",
       "      <th>Account</th>\n",
       "      <th>Category</th>\n",
       "      <th>TY2016</th>\n",
       "      <th>TY2015</th>\n",
       "      <th>TY2014</th>\n",
       "    </tr>\n",
       "  </thead>\n",
       "  <tbody>\n",
       "    <tr>\n",
       "      <th>6</th>\n",
       "      <td>Receivables - trade and other</td>\n",
       "      <td>Operating Activity</td>\n",
       "      <td>829</td>\n",
       "      <td>764</td>\n",
       "      <td>163</td>\n",
       "    </tr>\n",
       "    <tr>\n",
       "      <th>7</th>\n",
       "      <td>Inventories</td>\n",
       "      <td>Operating Activity</td>\n",
       "      <td>1109</td>\n",
       "      <td>2274</td>\n",
       "      <td>101</td>\n",
       "    </tr>\n",
       "    <tr>\n",
       "      <th>8</th>\n",
       "      <td>Accounts payable</td>\n",
       "      <td>Operating Activity</td>\n",
       "      <td>-200</td>\n",
       "      <td>-1165</td>\n",
       "      <td>222</td>\n",
       "    </tr>\n",
       "    <tr>\n",
       "      <th>9</th>\n",
       "      <td>Accrued expenses</td>\n",
       "      <td>Operating Activity</td>\n",
       "      <td>-201</td>\n",
       "      <td>-199</td>\n",
       "      <td>-10</td>\n",
       "    </tr>\n",
       "    <tr>\n",
       "      <th>10</th>\n",
       "      <td>Accrued wages, salaries and employee benefits</td>\n",
       "      <td>Operating Activity</td>\n",
       "      <td>-708</td>\n",
       "      <td>-389</td>\n",
       "      <td>901</td>\n",
       "    </tr>\n",
       "  </tbody>\n",
       "</table>\n",
       "</div>"
      ],
      "text/plain": [
       "                                          Account            Category  TY2016  \\\n",
       "6                   Receivables - trade and other  Operating Activity     829   \n",
       "7                                     Inventories  Operating Activity    1109   \n",
       "8                                Accounts payable  Operating Activity    -200   \n",
       "9                                Accrued expenses  Operating Activity    -201   \n",
       "10  Accrued wages, salaries and employee benefits  Operating Activity    -708   \n",
       "\n",
       "    TY2015  TY2014  \n",
       "6      764     163  \n",
       "7     2274     101  \n",
       "8    -1165     222  \n",
       "9     -199     -10  \n",
       "10    -389     901  "
      ]
     },
     "execution_count": 16,
     "metadata": {},
     "output_type": "execute_result"
    }
   ],
   "source": [
    "cf_df[6:11]"
   ]
  },
  {
   "cell_type": "markdown",
   "metadata": {},
   "source": [
    "The action of identifying a subset of a database is called 'slicing' in Python. In this example, we slice the dataframe by identifying the rows that we are interested in on the SCF.\n",
    "\n",
    "Inventory is showing a \\$1,109 *source* of cash for 2016.  Let's see if we can tie this *decrease* in inventory to the BS."
   ]
  },
  {
   "cell_type": "code",
   "execution_count": 17,
   "metadata": {
    "collapsed": false
   },
   "outputs": [],
   "source": [
    "bs_df['2016_CF'] = bs_df['TY2016']-bs_df['TY2015']"
   ]
  },
  {
   "cell_type": "code",
   "execution_count": 18,
   "metadata": {
    "collapsed": false
   },
   "outputs": [
    {
     "data": {
      "text/html": [
       "<div>\n",
       "<table border=\"1\" class=\"dataframe\">\n",
       "  <thead>\n",
       "    <tr style=\"text-align: right;\">\n",
       "      <th></th>\n",
       "      <th>Accounts</th>\n",
       "      <th>Category</th>\n",
       "      <th>TY2016</th>\n",
       "      <th>TY2015</th>\n",
       "      <th>2016_CF</th>\n",
       "    </tr>\n",
       "  </thead>\n",
       "  <tbody>\n",
       "    <tr>\n",
       "      <th>4</th>\n",
       "      <td>Inventories</td>\n",
       "      <td>Assets</td>\n",
       "      <td>8614</td>\n",
       "      <td>9700</td>\n",
       "      <td>-1086</td>\n",
       "    </tr>\n",
       "  </tbody>\n",
       "</table>\n",
       "</div>"
      ],
      "text/plain": [
       "      Accounts Category  TY2016  TY2015  2016_CF\n",
       "4  Inventories   Assets    8614    9700    -1086"
      ]
     },
     "execution_count": 18,
     "metadata": {},
     "output_type": "execute_result"
    }
   ],
   "source": [
    "bs_df[4:5]"
   ]
  },
  {
   "cell_type": "markdown",
   "metadata": {},
   "source": [
    "Oh No! The BS is showing a reduction in inventory of \\$1,086, but the SCF is showing a reduction of \\$1,109. Did we do something wrong? Nope, it's just accounting. Not all accounting entires have a cash flow impact.\n",
    "\n",
    "**ProTip:** Companies adjust the SCF for accounting related non-cash entries. For example, non-cash accounting entries such as obsolete invetory, slow-moving inventory, and impaired inventory can be removed when calculating cash flow. Cash flow adjustments apply to all cash flows categories. For example, accounting entries such as the Bad Debt Reserve are removed from AR to calculate cash flow (3). Therefore, you will not be able to always tie out movements on the BS to the SCF.\n",
    "\n",
    "Okay, that's great, but how do I take row 17 and add it to another database. This action of removing a row from a database is called 'Slicing' in Python. There are many ways to slice a database, but the safest way is to call out the name of the item that you want to move. For example, the code below first states that I want access the IS dataframe 'is_df[' and then once I am in that data frame, I want to look into the description column and access the row that is called 'Net Income'.\n",
    "\n",
    "**Excel Tip:** This slicing example is similar to doing a vlookup for a criteria in Excel.\n",
    "\n",
    "Ok, let's create a dataframe to calculate FCF by starting with Net Income."
   ]
  },
  {
   "cell_type": "code",
   "execution_count": 77,
   "metadata": {
    "collapsed": false
   },
   "outputs": [],
   "source": [
    "FCF_df = cf_df[cf_df.Account == 'Net Income']"
   ]
  },
  {
   "cell_type": "markdown",
   "metadata": {},
   "source": [
    "Let's now add depreciation to our FCF_df using the same code logic that we added Net Income.  Notice we are using the 'append' Python method to add a new row to our dataframe.\n",
    "\n",
    "**Python Tip**: Be careful when using the 'append' method because it will continue to append duplicate rows every time you execute the line of code below. "
   ]
  },
  {
   "cell_type": "code",
   "execution_count": 78,
   "metadata": {
    "collapsed": true
   },
   "outputs": [],
   "source": [
    "FCF_df= FCF_df.append(cf_df[cf_df.Account == 'Depreciation and amortization'])"
   ]
  },
  {
   "cell_type": "markdown",
   "metadata": {},
   "source": [
    "Another way to slice data in a dataframe is by selecting the rows that you want.  Python starts with row zero, so be mindful of this when slicing data by numbers.  We will append the Capital Expenditures by selecting row 14."
   ]
  },
  {
   "cell_type": "code",
   "execution_count": 79,
   "metadata": {
    "collapsed": false
   },
   "outputs": [],
   "source": [
    "FCF_df = FCF_df.append(cf_df[14:15])"
   ]
  },
  {
   "cell_type": "markdown",
   "metadata": {},
   "source": [
    "Next lets now append rows 6 thru 10 to include working capital in our FCF database."
   ]
  },
  {
   "cell_type": "code",
   "execution_count": 80,
   "metadata": {
    "collapsed": true
   },
   "outputs": [],
   "source": [
    "FCF_df = FCF_df.append(cf_df[6:11])"
   ]
  },
  {
   "cell_type": "markdown",
   "metadata": {},
   "source": [
    "Perfect, we now have a database that we can use to calculate FCF.  Let's add Totals to the columns so that we can see the FCF by year."
   ]
  },
  {
   "cell_type": "code",
   "execution_count": 81,
   "metadata": {
    "collapsed": false
   },
   "outputs": [],
   "source": [
    "FCF_df.loc['Total']= FCF_df.sum(numeric_only=True)"
   ]
  },
  {
   "cell_type": "code",
   "execution_count": 82,
   "metadata": {
    "collapsed": false
   },
   "outputs": [
    {
     "data": {
      "text/html": [
       "<div>\n",
       "<table border=\"1\" class=\"dataframe\">\n",
       "  <thead>\n",
       "    <tr style=\"text-align: right;\">\n",
       "      <th></th>\n",
       "      <th>Account</th>\n",
       "      <th>Category</th>\n",
       "      <th>TY2016</th>\n",
       "      <th>TY2015</th>\n",
       "      <th>TY2014</th>\n",
       "    </tr>\n",
       "  </thead>\n",
       "  <tbody>\n",
       "    <tr>\n",
       "      <th>0</th>\n",
       "      <td>Net Income</td>\n",
       "      <td>Operating Activity</td>\n",
       "      <td>-59.0</td>\n",
       "      <td>2523.0</td>\n",
       "      <td>2468.0</td>\n",
       "    </tr>\n",
       "    <tr>\n",
       "      <th>1</th>\n",
       "      <td>Depreciation and amortization</td>\n",
       "      <td>Operating Activity</td>\n",
       "      <td>3034.0</td>\n",
       "      <td>3046.0</td>\n",
       "      <td>3163.0</td>\n",
       "    </tr>\n",
       "    <tr>\n",
       "      <th>14</th>\n",
       "      <td>Capital expenditures - excluding equipment lea...</td>\n",
       "      <td>Investing Activity</td>\n",
       "      <td>-1109.0</td>\n",
       "      <td>-1388.0</td>\n",
       "      <td>-1539.0</td>\n",
       "    </tr>\n",
       "    <tr>\n",
       "      <th>6</th>\n",
       "      <td>Receivables - trade and other</td>\n",
       "      <td>Operating Activity</td>\n",
       "      <td>829.0</td>\n",
       "      <td>764.0</td>\n",
       "      <td>163.0</td>\n",
       "    </tr>\n",
       "    <tr>\n",
       "      <th>7</th>\n",
       "      <td>Inventories</td>\n",
       "      <td>Operating Activity</td>\n",
       "      <td>1109.0</td>\n",
       "      <td>2274.0</td>\n",
       "      <td>101.0</td>\n",
       "    </tr>\n",
       "    <tr>\n",
       "      <th>8</th>\n",
       "      <td>Accounts payable</td>\n",
       "      <td>Operating Activity</td>\n",
       "      <td>-200.0</td>\n",
       "      <td>-1165.0</td>\n",
       "      <td>222.0</td>\n",
       "    </tr>\n",
       "    <tr>\n",
       "      <th>9</th>\n",
       "      <td>Accrued expenses</td>\n",
       "      <td>Operating Activity</td>\n",
       "      <td>-201.0</td>\n",
       "      <td>-199.0</td>\n",
       "      <td>-10.0</td>\n",
       "    </tr>\n",
       "    <tr>\n",
       "      <th>10</th>\n",
       "      <td>Accrued wages, salaries and employee benefits</td>\n",
       "      <td>Operating Activity</td>\n",
       "      <td>-708.0</td>\n",
       "      <td>-389.0</td>\n",
       "      <td>901.0</td>\n",
       "    </tr>\n",
       "    <tr>\n",
       "      <th>Total</th>\n",
       "      <td>NaN</td>\n",
       "      <td>NaN</td>\n",
       "      <td>2695.0</td>\n",
       "      <td>5466.0</td>\n",
       "      <td>5469.0</td>\n",
       "    </tr>\n",
       "  </tbody>\n",
       "</table>\n",
       "</div>"
      ],
      "text/plain": [
       "                                                 Account            Category  \\\n",
       "0                                             Net Income  Operating Activity   \n",
       "1                          Depreciation and amortization  Operating Activity   \n",
       "14     Capital expenditures - excluding equipment lea...  Investing Activity   \n",
       "6                          Receivables - trade and other  Operating Activity   \n",
       "7                                            Inventories  Operating Activity   \n",
       "8                                       Accounts payable  Operating Activity   \n",
       "9                                       Accrued expenses  Operating Activity   \n",
       "10         Accrued wages, salaries and employee benefits  Operating Activity   \n",
       "Total                                                NaN                 NaN   \n",
       "\n",
       "       TY2016  TY2015  TY2014  \n",
       "0       -59.0  2523.0  2468.0  \n",
       "1      3034.0  3046.0  3163.0  \n",
       "14    -1109.0 -1388.0 -1539.0  \n",
       "6       829.0   764.0   163.0  \n",
       "7      1109.0  2274.0   101.0  \n",
       "8      -200.0 -1165.0   222.0  \n",
       "9      -201.0  -199.0   -10.0  \n",
       "10     -708.0  -389.0   901.0  \n",
       "Total  2695.0  5466.0  5469.0  "
      ]
     },
     "execution_count": 82,
     "metadata": {},
     "output_type": "execute_result"
    }
   ],
   "source": [
    "FCF_df"
   ]
  },
  {
   "cell_type": "markdown",
   "metadata": {},
   "source": [
    "The WACC calculation will be based on the 2016 FCF, so we will store that into a variable called FCF_2016 for later use."
   ]
  },
  {
   "cell_type": "code",
   "execution_count": 83,
   "metadata": {
    "collapsed": true
   },
   "outputs": [],
   "source": [
    "FCF_2016 = FCF_df.loc[\"Total\",\"TY2016\"]"
   ]
  },
  {
   "cell_type": "code",
   "execution_count": 84,
   "metadata": {
    "collapsed": false
   },
   "outputs": [
    {
     "data": {
      "text/plain": [
       "2695.0"
      ]
     },
     "execution_count": 84,
     "metadata": {},
     "output_type": "execute_result"
    }
   ],
   "source": [
    "FCF_2016 "
   ]
  },
  {
   "cell_type": "markdown",
   "metadata": {},
   "source": [
    "### Company Valuation Example: WACC Calculation"
   ]
  },
  {
   "cell_type": "markdown",
   "metadata": {},
   "source": [
    "\n",
    "Next we need to jump into the WACC calculation and assign values to each component.\n",
    "\n",
    "Calc: WACC = (1–tc)·xD·RD + xE ·RE\n",
    "RD = Return on Debt\n",
    "XD = Proportion of Debt\n",
    "tc = Corporate Tax Rate\n",
    "RE = Return on Equity\n",
    "XE = Propotion of Equity"
   ]
  },
  {
   "cell_type": "markdown",
   "metadata": {},
   "source": [
    "We will start with weights of debt (xD) and equity (xE).  For debt, we use Long-Term Debt, which can be found on the BS.  Additionally, equity is calculated by multiplying the number of shares outstanding times the current stock price. "
   ]
  },
  {
   "cell_type": "code",
   "execution_count": 160,
   "metadata": {
    "collapsed": false
   },
   "outputs": [
    {
     "data": {
      "text/plain": [
       "14382"
      ]
     },
     "execution_count": 160,
     "metadata": {},
     "output_type": "execute_result"
    }
   ],
   "source": [
    "Long_Term_Debt = bs_df.loc[\"Long Term Debt\",\"TY2016\"]\n",
    "Long_Term_Debt"
   ]
  },
  {
   "cell_type": "markdown",
   "metadata": {},
   "source": [
    "Shares outstanding can be found on the IS.  We will create a variable for the 2016 shares outstanding."
   ]
  },
  {
   "cell_type": "code",
   "execution_count": 99,
   "metadata": {
    "collapsed": true
   },
   "outputs": [],
   "source": [
    "Shares_Outstanding = is_df.loc[\"Basic Shares Outstanding (millions)\",\"TY2016\"]"
   ]
  },
  {
   "cell_type": "markdown",
   "metadata": {},
   "source": [
    "Next, let's get CAT's stock price.  We can pull a year's worth of stock prices for CAT from Google Finance and create a dataframe called price_df.  We can do this using pandas datareader."
   ]
  },
  {
   "cell_type": "code",
   "execution_count": 137,
   "metadata": {
    "collapsed": false
   },
   "outputs": [],
   "source": [
    "import pandas_datareader.data as web\n",
    "import pandas_datareader.data as getData\n",
    "import datetime"
   ]
  },
  {
   "cell_type": "code",
   "execution_count": 151,
   "metadata": {
    "collapsed": false
   },
   "outputs": [],
   "source": [
    "price_df = getData.get_data_google(\"CAT\")"
   ]
  },
  {
   "cell_type": "code",
   "execution_count": 153,
   "metadata": {
    "collapsed": false
   },
   "outputs": [
    {
     "name": "stdout",
     "output_type": "stream",
     "text": [
      "<class 'pandas.core.frame.DataFrame'>\n",
      "DatetimeIndex: 250 entries, 2016-11-30 to 2017-11-27\n",
      "Data columns (total 5 columns):\n",
      "Open      249 non-null float64\n",
      "High      249 non-null float64\n",
      "Low       249 non-null float64\n",
      "Close     250 non-null float64\n",
      "Volume    250 non-null int64\n",
      "dtypes: float64(4), int64(1)\n",
      "memory usage: 11.7 KB\n"
     ]
    }
   ],
   "source": [
    "price_df.info()"
   ]
  },
  {
   "cell_type": "code",
   "execution_count": 154,
   "metadata": {
    "collapsed": false
   },
   "outputs": [
    {
     "data": {
      "text/html": [
       "<div>\n",
       "<table border=\"1\" class=\"dataframe\">\n",
       "  <thead>\n",
       "    <tr style=\"text-align: right;\">\n",
       "      <th></th>\n",
       "      <th>Open</th>\n",
       "      <th>High</th>\n",
       "      <th>Low</th>\n",
       "      <th>Close</th>\n",
       "      <th>Volume</th>\n",
       "    </tr>\n",
       "    <tr>\n",
       "      <th>Date</th>\n",
       "      <th></th>\n",
       "      <th></th>\n",
       "      <th></th>\n",
       "      <th></th>\n",
       "      <th></th>\n",
       "    </tr>\n",
       "  </thead>\n",
       "  <tbody>\n",
       "    <tr>\n",
       "      <th>2016-11-30</th>\n",
       "      <td>95.75</td>\n",
       "      <td>95.90</td>\n",
       "      <td>94.35</td>\n",
       "      <td>95.56</td>\n",
       "      <td>4641863</td>\n",
       "    </tr>\n",
       "    <tr>\n",
       "      <th>2016-12-01</th>\n",
       "      <td>96.00</td>\n",
       "      <td>97.39</td>\n",
       "      <td>94.05</td>\n",
       "      <td>96.24</td>\n",
       "      <td>9361618</td>\n",
       "    </tr>\n",
       "    <tr>\n",
       "      <th>2016-12-02</th>\n",
       "      <td>95.36</td>\n",
       "      <td>96.15</td>\n",
       "      <td>94.93</td>\n",
       "      <td>95.14</td>\n",
       "      <td>5038257</td>\n",
       "    </tr>\n",
       "    <tr>\n",
       "      <th>2016-12-05</th>\n",
       "      <td>95.87</td>\n",
       "      <td>95.99</td>\n",
       "      <td>94.15</td>\n",
       "      <td>94.45</td>\n",
       "      <td>4980335</td>\n",
       "    </tr>\n",
       "    <tr>\n",
       "      <th>2016-12-06</th>\n",
       "      <td>94.10</td>\n",
       "      <td>95.31</td>\n",
       "      <td>94.07</td>\n",
       "      <td>95.22</td>\n",
       "      <td>3663143</td>\n",
       "    </tr>\n",
       "    <tr>\n",
       "      <th>2016-12-07</th>\n",
       "      <td>95.25</td>\n",
       "      <td>97.33</td>\n",
       "      <td>94.93</td>\n",
       "      <td>97.33</td>\n",
       "      <td>4901054</td>\n",
       "    </tr>\n",
       "    <tr>\n",
       "      <th>2016-12-08</th>\n",
       "      <td>97.26</td>\n",
       "      <td>97.40</td>\n",
       "      <td>96.13</td>\n",
       "      <td>96.27</td>\n",
       "      <td>3861626</td>\n",
       "    </tr>\n",
       "    <tr>\n",
       "      <th>2016-12-09</th>\n",
       "      <td>96.23</td>\n",
       "      <td>96.30</td>\n",
       "      <td>95.19</td>\n",
       "      <td>95.53</td>\n",
       "      <td>6550220</td>\n",
       "    </tr>\n",
       "    <tr>\n",
       "      <th>2016-12-12</th>\n",
       "      <td>96.01</td>\n",
       "      <td>96.65</td>\n",
       "      <td>94.91</td>\n",
       "      <td>95.08</td>\n",
       "      <td>3597051</td>\n",
       "    </tr>\n",
       "    <tr>\n",
       "      <th>2016-12-13</th>\n",
       "      <td>95.74</td>\n",
       "      <td>96.50</td>\n",
       "      <td>95.18</td>\n",
       "      <td>96.02</td>\n",
       "      <td>3803344</td>\n",
       "    </tr>\n",
       "    <tr>\n",
       "      <th>2016-12-14</th>\n",
       "      <td>95.77</td>\n",
       "      <td>96.00</td>\n",
       "      <td>93.61</td>\n",
       "      <td>93.74</td>\n",
       "      <td>5647437</td>\n",
       "    </tr>\n",
       "    <tr>\n",
       "      <th>2016-12-15</th>\n",
       "      <td>93.80</td>\n",
       "      <td>94.73</td>\n",
       "      <td>93.05</td>\n",
       "      <td>94.53</td>\n",
       "      <td>4200139</td>\n",
       "    </tr>\n",
       "    <tr>\n",
       "      <th>2016-12-16</th>\n",
       "      <td>94.35</td>\n",
       "      <td>94.48</td>\n",
       "      <td>92.53</td>\n",
       "      <td>92.58</td>\n",
       "      <td>7872713</td>\n",
       "    </tr>\n",
       "    <tr>\n",
       "      <th>2016-12-19</th>\n",
       "      <td>91.93</td>\n",
       "      <td>92.78</td>\n",
       "      <td>91.00</td>\n",
       "      <td>92.71</td>\n",
       "      <td>3856324</td>\n",
       "    </tr>\n",
       "    <tr>\n",
       "      <th>2016-12-20</th>\n",
       "      <td>93.64</td>\n",
       "      <td>94.83</td>\n",
       "      <td>93.30</td>\n",
       "      <td>94.34</td>\n",
       "      <td>4302415</td>\n",
       "    </tr>\n",
       "    <tr>\n",
       "      <th>2016-12-21</th>\n",
       "      <td>94.26</td>\n",
       "      <td>94.30</td>\n",
       "      <td>93.68</td>\n",
       "      <td>93.82</td>\n",
       "      <td>2829309</td>\n",
       "    </tr>\n",
       "    <tr>\n",
       "      <th>2016-12-22</th>\n",
       "      <td>93.78</td>\n",
       "      <td>94.45</td>\n",
       "      <td>93.72</td>\n",
       "      <td>94.12</td>\n",
       "      <td>2534883</td>\n",
       "    </tr>\n",
       "    <tr>\n",
       "      <th>2016-12-23</th>\n",
       "      <td>93.79</td>\n",
       "      <td>94.40</td>\n",
       "      <td>93.64</td>\n",
       "      <td>94.32</td>\n",
       "      <td>1545895</td>\n",
       "    </tr>\n",
       "    <tr>\n",
       "      <th>2016-12-27</th>\n",
       "      <td>94.34</td>\n",
       "      <td>94.80</td>\n",
       "      <td>94.10</td>\n",
       "      <td>94.55</td>\n",
       "      <td>1735397</td>\n",
       "    </tr>\n",
       "    <tr>\n",
       "      <th>2016-12-28</th>\n",
       "      <td>94.60</td>\n",
       "      <td>94.90</td>\n",
       "      <td>92.82</td>\n",
       "      <td>93.15</td>\n",
       "      <td>2700257</td>\n",
       "    </tr>\n",
       "    <tr>\n",
       "      <th>2016-12-29</th>\n",
       "      <td>93.28</td>\n",
       "      <td>93.85</td>\n",
       "      <td>93.00</td>\n",
       "      <td>93.29</td>\n",
       "      <td>2387183</td>\n",
       "    </tr>\n",
       "    <tr>\n",
       "      <th>2016-12-30</th>\n",
       "      <td>93.04</td>\n",
       "      <td>93.25</td>\n",
       "      <td>92.33</td>\n",
       "      <td>92.74</td>\n",
       "      <td>3471158</td>\n",
       "    </tr>\n",
       "    <tr>\n",
       "      <th>2017-01-03</th>\n",
       "      <td>94.00</td>\n",
       "      <td>95.19</td>\n",
       "      <td>93.25</td>\n",
       "      <td>93.99</td>\n",
       "      <td>5054885</td>\n",
       "    </tr>\n",
       "    <tr>\n",
       "      <th>2017-01-04</th>\n",
       "      <td>94.46</td>\n",
       "      <td>94.50</td>\n",
       "      <td>93.43</td>\n",
       "      <td>93.57</td>\n",
       "      <td>3772050</td>\n",
       "    </tr>\n",
       "    <tr>\n",
       "      <th>2017-01-05</th>\n",
       "      <td>93.18</td>\n",
       "      <td>94.46</td>\n",
       "      <td>92.42</td>\n",
       "      <td>93.00</td>\n",
       "      <td>4698750</td>\n",
       "    </tr>\n",
       "    <tr>\n",
       "      <th>2017-01-06</th>\n",
       "      <td>93.45</td>\n",
       "      <td>93.60</td>\n",
       "      <td>92.41</td>\n",
       "      <td>93.04</td>\n",
       "      <td>4023073</td>\n",
       "    </tr>\n",
       "    <tr>\n",
       "      <th>2017-01-09</th>\n",
       "      <td>92.93</td>\n",
       "      <td>93.49</td>\n",
       "      <td>92.20</td>\n",
       "      <td>92.37</td>\n",
       "      <td>3095018</td>\n",
       "    </tr>\n",
       "    <tr>\n",
       "      <th>2017-01-10</th>\n",
       "      <td>92.98</td>\n",
       "      <td>94.44</td>\n",
       "      <td>92.77</td>\n",
       "      <td>93.83</td>\n",
       "      <td>3980193</td>\n",
       "    </tr>\n",
       "    <tr>\n",
       "      <th>2017-01-11</th>\n",
       "      <td>94.47</td>\n",
       "      <td>94.75</td>\n",
       "      <td>93.39</td>\n",
       "      <td>94.65</td>\n",
       "      <td>3720504</td>\n",
       "    </tr>\n",
       "    <tr>\n",
       "      <th>2017-01-12</th>\n",
       "      <td>94.37</td>\n",
       "      <td>94.37</td>\n",
       "      <td>92.78</td>\n",
       "      <td>93.99</td>\n",
       "      <td>3102819</td>\n",
       "    </tr>\n",
       "    <tr>\n",
       "      <th>...</th>\n",
       "      <td>...</td>\n",
       "      <td>...</td>\n",
       "      <td>...</td>\n",
       "      <td>...</td>\n",
       "      <td>...</td>\n",
       "    </tr>\n",
       "    <tr>\n",
       "      <th>2017-10-16</th>\n",
       "      <td>131.25</td>\n",
       "      <td>132.12</td>\n",
       "      <td>130.94</td>\n",
       "      <td>131.47</td>\n",
       "      <td>2914192</td>\n",
       "    </tr>\n",
       "    <tr>\n",
       "      <th>2017-10-17</th>\n",
       "      <td>131.14</td>\n",
       "      <td>131.47</td>\n",
       "      <td>130.32</td>\n",
       "      <td>130.54</td>\n",
       "      <td>2380342</td>\n",
       "    </tr>\n",
       "    <tr>\n",
       "      <th>2017-10-18</th>\n",
       "      <td>130.50</td>\n",
       "      <td>131.65</td>\n",
       "      <td>130.50</td>\n",
       "      <td>131.29</td>\n",
       "      <td>2511437</td>\n",
       "    </tr>\n",
       "    <tr>\n",
       "      <th>2017-10-19</th>\n",
       "      <td>131.00</td>\n",
       "      <td>131.63</td>\n",
       "      <td>129.40</td>\n",
       "      <td>131.55</td>\n",
       "      <td>4837581</td>\n",
       "    </tr>\n",
       "    <tr>\n",
       "      <th>2017-10-20</th>\n",
       "      <td>131.34</td>\n",
       "      <td>131.91</td>\n",
       "      <td>130.48</td>\n",
       "      <td>131.36</td>\n",
       "      <td>3086775</td>\n",
       "    </tr>\n",
       "    <tr>\n",
       "      <th>2017-10-23</th>\n",
       "      <td>131.95</td>\n",
       "      <td>132.34</td>\n",
       "      <td>131.16</td>\n",
       "      <td>131.68</td>\n",
       "      <td>5549532</td>\n",
       "    </tr>\n",
       "    <tr>\n",
       "      <th>2017-10-24</th>\n",
       "      <td>140.06</td>\n",
       "      <td>140.44</td>\n",
       "      <td>136.63</td>\n",
       "      <td>138.24</td>\n",
       "      <td>18886700</td>\n",
       "    </tr>\n",
       "    <tr>\n",
       "      <th>2017-10-25</th>\n",
       "      <td>137.21</td>\n",
       "      <td>137.83</td>\n",
       "      <td>134.79</td>\n",
       "      <td>136.84</td>\n",
       "      <td>7438581</td>\n",
       "    </tr>\n",
       "    <tr>\n",
       "      <th>2017-10-26</th>\n",
       "      <td>136.88</td>\n",
       "      <td>138.24</td>\n",
       "      <td>136.85</td>\n",
       "      <td>136.94</td>\n",
       "      <td>5745354</td>\n",
       "    </tr>\n",
       "    <tr>\n",
       "      <th>2017-10-27</th>\n",
       "      <td>136.92</td>\n",
       "      <td>138.40</td>\n",
       "      <td>136.90</td>\n",
       "      <td>137.81</td>\n",
       "      <td>4064593</td>\n",
       "    </tr>\n",
       "    <tr>\n",
       "      <th>2017-10-30</th>\n",
       "      <td>137.30</td>\n",
       "      <td>137.81</td>\n",
       "      <td>136.48</td>\n",
       "      <td>136.49</td>\n",
       "      <td>3044543</td>\n",
       "    </tr>\n",
       "    <tr>\n",
       "      <th>2017-10-31</th>\n",
       "      <td>136.50</td>\n",
       "      <td>136.62</td>\n",
       "      <td>135.08</td>\n",
       "      <td>135.80</td>\n",
       "      <td>3988311</td>\n",
       "    </tr>\n",
       "    <tr>\n",
       "      <th>2017-11-01</th>\n",
       "      <td>135.67</td>\n",
       "      <td>137.30</td>\n",
       "      <td>135.43</td>\n",
       "      <td>136.29</td>\n",
       "      <td>3629020</td>\n",
       "    </tr>\n",
       "    <tr>\n",
       "      <th>2017-11-02</th>\n",
       "      <td>136.42</td>\n",
       "      <td>136.99</td>\n",
       "      <td>135.69</td>\n",
       "      <td>136.47</td>\n",
       "      <td>2722613</td>\n",
       "    </tr>\n",
       "    <tr>\n",
       "      <th>2017-11-03</th>\n",
       "      <td>136.48</td>\n",
       "      <td>136.95</td>\n",
       "      <td>136.36</td>\n",
       "      <td>136.63</td>\n",
       "      <td>2105357</td>\n",
       "    </tr>\n",
       "    <tr>\n",
       "      <th>2017-11-06</th>\n",
       "      <td>136.80</td>\n",
       "      <td>138.45</td>\n",
       "      <td>136.79</td>\n",
       "      <td>137.71</td>\n",
       "      <td>2780869</td>\n",
       "    </tr>\n",
       "    <tr>\n",
       "      <th>2017-11-07</th>\n",
       "      <td>137.80</td>\n",
       "      <td>138.90</td>\n",
       "      <td>136.66</td>\n",
       "      <td>138.81</td>\n",
       "      <td>3222106</td>\n",
       "    </tr>\n",
       "    <tr>\n",
       "      <th>2017-11-08</th>\n",
       "      <td>138.40</td>\n",
       "      <td>138.75</td>\n",
       "      <td>137.18</td>\n",
       "      <td>137.29</td>\n",
       "      <td>1933255</td>\n",
       "    </tr>\n",
       "    <tr>\n",
       "      <th>2017-11-09</th>\n",
       "      <td>136.44</td>\n",
       "      <td>136.75</td>\n",
       "      <td>134.65</td>\n",
       "      <td>135.34</td>\n",
       "      <td>2940871</td>\n",
       "    </tr>\n",
       "    <tr>\n",
       "      <th>2017-11-10</th>\n",
       "      <td>135.09</td>\n",
       "      <td>136.89</td>\n",
       "      <td>135.07</td>\n",
       "      <td>136.48</td>\n",
       "      <td>2017641</td>\n",
       "    </tr>\n",
       "    <tr>\n",
       "      <th>2017-11-13</th>\n",
       "      <td>135.53</td>\n",
       "      <td>136.55</td>\n",
       "      <td>134.87</td>\n",
       "      <td>136.53</td>\n",
       "      <td>1894148</td>\n",
       "    </tr>\n",
       "    <tr>\n",
       "      <th>2017-11-14</th>\n",
       "      <td>138.00</td>\n",
       "      <td>138.12</td>\n",
       "      <td>136.47</td>\n",
       "      <td>137.54</td>\n",
       "      <td>3041283</td>\n",
       "    </tr>\n",
       "    <tr>\n",
       "      <th>2017-11-15</th>\n",
       "      <td>136.48</td>\n",
       "      <td>136.76</td>\n",
       "      <td>133.81</td>\n",
       "      <td>134.10</td>\n",
       "      <td>3746182</td>\n",
       "    </tr>\n",
       "    <tr>\n",
       "      <th>2017-11-16</th>\n",
       "      <td>135.47</td>\n",
       "      <td>137.41</td>\n",
       "      <td>135.10</td>\n",
       "      <td>136.36</td>\n",
       "      <td>2813638</td>\n",
       "    </tr>\n",
       "    <tr>\n",
       "      <th>2017-11-17</th>\n",
       "      <td>135.80</td>\n",
       "      <td>136.36</td>\n",
       "      <td>135.02</td>\n",
       "      <td>136.13</td>\n",
       "      <td>2312700</td>\n",
       "    </tr>\n",
       "    <tr>\n",
       "      <th>2017-11-20</th>\n",
       "      <td>136.44</td>\n",
       "      <td>137.81</td>\n",
       "      <td>136.25</td>\n",
       "      <td>136.91</td>\n",
       "      <td>2124623</td>\n",
       "    </tr>\n",
       "    <tr>\n",
       "      <th>2017-11-21</th>\n",
       "      <td>137.77</td>\n",
       "      <td>138.00</td>\n",
       "      <td>137.17</td>\n",
       "      <td>137.60</td>\n",
       "      <td>2221427</td>\n",
       "    </tr>\n",
       "    <tr>\n",
       "      <th>2017-11-22</th>\n",
       "      <td>138.22</td>\n",
       "      <td>138.42</td>\n",
       "      <td>137.20</td>\n",
       "      <td>138.01</td>\n",
       "      <td>4887659</td>\n",
       "    </tr>\n",
       "    <tr>\n",
       "      <th>2017-11-24</th>\n",
       "      <td>138.10</td>\n",
       "      <td>138.42</td>\n",
       "      <td>137.34</td>\n",
       "      <td>137.39</td>\n",
       "      <td>944517</td>\n",
       "    </tr>\n",
       "    <tr>\n",
       "      <th>2017-11-27</th>\n",
       "      <td>137.47</td>\n",
       "      <td>138.27</td>\n",
       "      <td>136.89</td>\n",
       "      <td>137.19</td>\n",
       "      <td>2585375</td>\n",
       "    </tr>\n",
       "  </tbody>\n",
       "</table>\n",
       "<p>250 rows × 5 columns</p>\n",
       "</div>"
      ],
      "text/plain": [
       "              Open    High     Low   Close    Volume\n",
       "Date                                                \n",
       "2016-11-30   95.75   95.90   94.35   95.56   4641863\n",
       "2016-12-01   96.00   97.39   94.05   96.24   9361618\n",
       "2016-12-02   95.36   96.15   94.93   95.14   5038257\n",
       "2016-12-05   95.87   95.99   94.15   94.45   4980335\n",
       "2016-12-06   94.10   95.31   94.07   95.22   3663143\n",
       "2016-12-07   95.25   97.33   94.93   97.33   4901054\n",
       "2016-12-08   97.26   97.40   96.13   96.27   3861626\n",
       "2016-12-09   96.23   96.30   95.19   95.53   6550220\n",
       "2016-12-12   96.01   96.65   94.91   95.08   3597051\n",
       "2016-12-13   95.74   96.50   95.18   96.02   3803344\n",
       "2016-12-14   95.77   96.00   93.61   93.74   5647437\n",
       "2016-12-15   93.80   94.73   93.05   94.53   4200139\n",
       "2016-12-16   94.35   94.48   92.53   92.58   7872713\n",
       "2016-12-19   91.93   92.78   91.00   92.71   3856324\n",
       "2016-12-20   93.64   94.83   93.30   94.34   4302415\n",
       "2016-12-21   94.26   94.30   93.68   93.82   2829309\n",
       "2016-12-22   93.78   94.45   93.72   94.12   2534883\n",
       "2016-12-23   93.79   94.40   93.64   94.32   1545895\n",
       "2016-12-27   94.34   94.80   94.10   94.55   1735397\n",
       "2016-12-28   94.60   94.90   92.82   93.15   2700257\n",
       "2016-12-29   93.28   93.85   93.00   93.29   2387183\n",
       "2016-12-30   93.04   93.25   92.33   92.74   3471158\n",
       "2017-01-03   94.00   95.19   93.25   93.99   5054885\n",
       "2017-01-04   94.46   94.50   93.43   93.57   3772050\n",
       "2017-01-05   93.18   94.46   92.42   93.00   4698750\n",
       "2017-01-06   93.45   93.60   92.41   93.04   4023073\n",
       "2017-01-09   92.93   93.49   92.20   92.37   3095018\n",
       "2017-01-10   92.98   94.44   92.77   93.83   3980193\n",
       "2017-01-11   94.47   94.75   93.39   94.65   3720504\n",
       "2017-01-12   94.37   94.37   92.78   93.99   3102819\n",
       "...            ...     ...     ...     ...       ...\n",
       "2017-10-16  131.25  132.12  130.94  131.47   2914192\n",
       "2017-10-17  131.14  131.47  130.32  130.54   2380342\n",
       "2017-10-18  130.50  131.65  130.50  131.29   2511437\n",
       "2017-10-19  131.00  131.63  129.40  131.55   4837581\n",
       "2017-10-20  131.34  131.91  130.48  131.36   3086775\n",
       "2017-10-23  131.95  132.34  131.16  131.68   5549532\n",
       "2017-10-24  140.06  140.44  136.63  138.24  18886700\n",
       "2017-10-25  137.21  137.83  134.79  136.84   7438581\n",
       "2017-10-26  136.88  138.24  136.85  136.94   5745354\n",
       "2017-10-27  136.92  138.40  136.90  137.81   4064593\n",
       "2017-10-30  137.30  137.81  136.48  136.49   3044543\n",
       "2017-10-31  136.50  136.62  135.08  135.80   3988311\n",
       "2017-11-01  135.67  137.30  135.43  136.29   3629020\n",
       "2017-11-02  136.42  136.99  135.69  136.47   2722613\n",
       "2017-11-03  136.48  136.95  136.36  136.63   2105357\n",
       "2017-11-06  136.80  138.45  136.79  137.71   2780869\n",
       "2017-11-07  137.80  138.90  136.66  138.81   3222106\n",
       "2017-11-08  138.40  138.75  137.18  137.29   1933255\n",
       "2017-11-09  136.44  136.75  134.65  135.34   2940871\n",
       "2017-11-10  135.09  136.89  135.07  136.48   2017641\n",
       "2017-11-13  135.53  136.55  134.87  136.53   1894148\n",
       "2017-11-14  138.00  138.12  136.47  137.54   3041283\n",
       "2017-11-15  136.48  136.76  133.81  134.10   3746182\n",
       "2017-11-16  135.47  137.41  135.10  136.36   2813638\n",
       "2017-11-17  135.80  136.36  135.02  136.13   2312700\n",
       "2017-11-20  136.44  137.81  136.25  136.91   2124623\n",
       "2017-11-21  137.77  138.00  137.17  137.60   2221427\n",
       "2017-11-22  138.22  138.42  137.20  138.01   4887659\n",
       "2017-11-24  138.10  138.42  137.34  137.39    944517\n",
       "2017-11-27  137.47  138.27  136.89  137.19   2585375\n",
       "\n",
       "[250 rows x 5 columns]"
      ]
     },
     "execution_count": 154,
     "metadata": {},
     "output_type": "execute_result"
    }
   ],
   "source": [
    "price_df"
   ]
  },
  {
   "cell_type": "markdown",
   "metadata": {},
   "source": [
    "In tutorial 1, we used the DDM model based on the share price of November 20, 2017.  Let's also use that share price for the WACC model."
   ]
  },
  {
   "cell_type": "code",
   "execution_count": 157,
   "metadata": {
    "collapsed": false
   },
   "outputs": [
    {
     "data": {
      "text/plain": [
       "136.91"
      ]
     },
     "execution_count": 157,
     "metadata": {},
     "output_type": "execute_result"
    }
   ],
   "source": [
    "share_price = price_df.loc[\"2017-11-20\",\"Close\"]\n",
    "share_price"
   ]
  },
  {
   "cell_type": "code",
   "execution_count": 158,
   "metadata": {
    "collapsed": false
   },
   "outputs": [
    {
     "data": {
      "text/plain": [
       "79996.512999999992"
      ]
     },
     "execution_count": 158,
     "metadata": {},
     "output_type": "execute_result"
    }
   ],
   "source": [
    "Equity = share_price * Shares_Outstanding\n",
    "Equity"
   ]
  },
  {
   "cell_type": "code",
   "execution_count": 161,
   "metadata": {
    "collapsed": false
   },
   "outputs": [
    {
     "data": {
      "text/plain": [
       "94378"
      ]
     },
     "execution_count": 161,
     "metadata": {},
     "output_type": "execute_result"
    }
   ],
   "source": [
    "Debt = int(Long_Term_Debt)\n",
    "Equity = int(Equity)\n",
    "Total = Debt + Equity\n",
    "Total"
   ]
  },
  {
   "cell_type": "code",
   "execution_count": 162,
   "metadata": {
    "collapsed": false
   },
   "outputs": [
    {
     "data": {
      "text/plain": [
       "0.15238720888342622"
      ]
     },
     "execution_count": 162,
     "metadata": {},
     "output_type": "execute_result"
    }
   ],
   "source": [
    "xD =Debt / Total\n",
    "xD"
   ]
  },
  {
   "cell_type": "code",
   "execution_count": 163,
   "metadata": {
    "collapsed": false
   },
   "outputs": [
    {
     "data": {
      "text/plain": [
       "0.8476127911165737"
      ]
     },
     "execution_count": 163,
     "metadata": {},
     "output_type": "execute_result"
    }
   ],
   "source": [
    "xE =Equity / Total\n",
    "xE"
   ]
  },
  {
   "cell_type": "markdown",
   "metadata": {},
   "source": [
    "After running the calculations, we can see that CAT's capital structure is made up of 85% equity and 15% debt."
   ]
  },
  {
   "cell_type": "markdown",
   "metadata": {},
   "source": [
    "Next, we will use the return on equity (ROE), that was given in tutorial 1."
   ]
  },
  {
   "cell_type": "code",
   "execution_count": 164,
   "metadata": {
    "collapsed": false
   },
   "outputs": [
    {
     "name": "stdout",
     "output_type": "stream",
     "text": [
      "0.09445\n"
     ]
    }
   ],
   "source": [
    "Beta = 1.29 #(3) Need 5 year avg\n",
    "Market_Risk_Prem =0.055 #(1) Chapter 7\n",
    "RF = 0.0235 #(5) 10 year treasury rate\n",
    "\n",
    "RE = RF + Market_Risk_Prem * Beta\n",
    "print (RE)"
   ]
  },
  {
   "cell_type": "markdown",
   "metadata": {},
   "source": [
    "Now we assign the tax rate variable."
   ]
  },
  {
   "cell_type": "code",
   "execution_count": 177,
   "metadata": {
    "collapsed": false
   },
   "outputs": [],
   "source": [
    "tc = 0.35"
   ]
  },
  {
   "cell_type": "code",
   "execution_count": 186,
   "metadata": {
    "collapsed": true
   },
   "outputs": [],
   "source": [
    "# This is an estimate of CATs long term debt section on their annual report.\n",
    "RD = 0.055"
   ]
  },
  {
   "cell_type": "code",
   "execution_count": 187,
   "metadata": {
    "collapsed": false
   },
   "outputs": [],
   "source": [
    "WACC = (1-tc)*xD*RD + xE*RE"
   ]
  },
  {
   "cell_type": "code",
   "execution_count": 188,
   "metadata": {
    "collapsed": false
   },
   "outputs": [
    {
     "data": {
      "text/plain": [
       "0.08550487083854288"
      ]
     },
     "execution_count": 188,
     "metadata": {},
     "output_type": "execute_result"
    }
   ],
   "source": [
    "WACC"
   ]
  },
  {
   "cell_type": "markdown",
   "metadata": {},
   "source": [
    "### Company Valuation Example: Pulling it All Together"
   ]
  },
  {
   "cell_type": "code",
   "execution_count": 189,
   "metadata": {
    "collapsed": true
   },
   "outputs": [],
   "source": [
    "# We define the growth rate of 6% to use in the valuation calc.\n",
    "g = 0.06"
   ]
  },
  {
   "cell_type": "code",
   "execution_count": 190,
   "metadata": {
    "collapsed": false
   },
   "outputs": [],
   "source": [
    "Vtwacc = (FCF_2016*(1-g)) / (WACC - g)"
   ]
  },
  {
   "cell_type": "markdown",
   "metadata": {},
   "source": [
    "The WACC calculation yields the total valuation of the company including debt.  To calculate the stock price, we need to subtract the value of long term debt and then divide the equity value by the shares outstanding."
   ]
  },
  {
   "cell_type": "code",
   "execution_count": 191,
   "metadata": {
    "collapsed": false
   },
   "outputs": [],
   "source": [
    "Vewacc= Vtwacc - Debt"
   ]
  },
  {
   "cell_type": "code",
   "execution_count": 192,
   "metadata": {
    "collapsed": false
   },
   "outputs": [
    {
     "data": {
      "text/plain": [
       "145.37758930444252"
      ]
     },
     "execution_count": 192,
     "metadata": {},
     "output_type": "execute_result"
    }
   ],
   "source": [
    "Vewacc / Shares_Outstanding"
   ]
  },
  {
   "cell_type": "markdown",
   "metadata": {},
   "source": [
    "The WACC model estimates the share price at \\$145, which is higher than the actual price of \\$137.  Therefore, the WACC model believes CAT is undervalued.  However, please note that this WACC calculation assumes constant growth of 6% and that valuations can fluctuate widely with changes to the growth rate (g).  More advanced WACC calculations can factor in multiperiod growth rates, which could perhaps lead to a more accurate stock price prediction.  \n",
    "\n",
    "The goal of this tutorial was to provide a foundation for calculating free cash flow and using it to derive a company stock price.  We showed how FCF was calculated and used to replace the dividend as a cash flow proxy. Please leave comments to let us know how we did!\n",
    "\n",
    "Next up we will learn how to value a company based on ratios and relative benchmarks in the market and industry."
   ]
  },
  {
   "cell_type": "markdown",
   "metadata": {},
   "source": [
    "Works Cited:\n",
    "1. The Financial Times Guide to Understanding Finance, 2nd Edition by Javier Estrada Published by Pearson Business, 2011\n",
    "2. Fundamentals of Corporate Finance, 6th Edition by Ross, Westerfield, and Jordan Published by McGraw-Hill Irwin, 2003\n",
    "3. http://www.accounting-basics-for-students.com/-bad-debts-in-cash-flow-statement-.html"
   ]
  }
 ],
 "metadata": {
  "anaconda-cloud": {},
  "kernelspec": {
   "display_name": "Python [conda env:DAND]",
   "language": "python",
   "name": "conda-env-DAND-py"
  },
  "language_info": {
   "codemirror_mode": {
    "name": "ipython",
    "version": 2
   },
   "file_extension": ".py",
   "mimetype": "text/x-python",
   "name": "python",
   "nbconvert_exporter": "python",
   "pygments_lexer": "ipython2",
   "version": "2.7.12"
  }
 },
 "nbformat": 4,
 "nbformat_minor": 2
}
